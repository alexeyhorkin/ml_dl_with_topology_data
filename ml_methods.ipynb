{
 "cells": [
  {
   "cell_type": "code",
   "execution_count": null,
   "metadata": {},
   "outputs": [],
   "source": [
    "import random\n",
    "import numpy as np\n",
    "import pandas as pd\n",
    "import matplotlib.pyplot as plt\n",
    "\n",
    "from os.path import join as p_join\n",
    "\n",
    "import seaborn as sns\n",
    "\n",
    "\n",
    "##################################\n",
    "## GLOBAL SETTINGS ###############\n",
    "##################################\n",
    "plt.rcParams[\"figure.figsize\"] = (12,8)\n",
    "\n",
    "def seed_all(seed=42):\n",
    "\n",
    "    random.seed(seed)\n",
    "    np.random.seed(seed)\n",
    "    print(\"[ Using Seed : \", seed, \" ]\")\n",
    "\n",
    "####################################\n",
    "#####   SEED ALL EXPERIMENTS   #####\n",
    "####################################\n",
    "seed_all()"
   ]
  },
  {
   "cell_type": "code",
   "execution_count": null,
   "metadata": {},
   "outputs": [],
   "source": [
    "X_path = p_join('data', 'Input.txt')\n",
    "Y_path = p_join('data', 'Topology.txt')\n",
    "\n",
    "X = pd.read_csv(X_path).values\n",
    "Y = pd.read_csv(Y_path).values.squeeze()"
   ]
  },
  {
   "cell_type": "code",
   "execution_count": null,
   "metadata": {},
   "outputs": [],
   "source": [
    "###############################\n",
    "##### IMPORT ML METHODS   #####\n",
    "###############################\n",
    "from sklearn.neighbors import KNeighborsClassifier\n",
    "from sklearn.neural_network import MLPClassifier\n",
    "from sklearn import svm\n",
    "from sklearn.naive_bayes import GaussianNB\n",
    "from sklearn.linear_model import LogisticRegression\n",
    "\n",
    "\n",
    "\n",
    "#################################\n",
    "####### GLOBAL CONFIG ###########\n",
    "#################################\n",
    "CONFIG = {'scoring': 'accuracy',\n",
    "          'cv': 5,\n",
    "          'n_jobs': -1}"
   ]
  },
  {
   "cell_type": "code",
   "execution_count": null,
   "metadata": {},
   "outputs": [],
   "source": [
    "def select_n_center_features(data: np.ndarray, n_features: int) -> np.ndarray:\n",
    "    from copy import deepcopy\n",
    "\n",
    "    total_components = data.shape[1]\n",
    "    start = int((total_components - n_features)/2)\n",
    "    res = deepcopy(data)[:, start: start + n_features]\n",
    "    print(f'Selected features from indexes:  [{start}, {start + n_features})')\n",
    "    return res"
   ]
  },
  {
   "cell_type": "code",
   "execution_count": null,
   "metadata": {},
   "outputs": [],
   "source": [
    "from sklearn.model_selection import cross_val_score\n",
    "from sklearn.model_selection import GridSearchCV\n",
    "from copy import deepcopy\n",
    "\n",
    "def calc_ml_method(model, config, X, Y):\n",
    "    res = {}\n",
    "\n",
    "    scoring = config.get('scoring', 'accuracy')\n",
    "    cv = config.get('cv', 5)\n",
    "    n_jobs = config.get('n_jobs', 4)\n",
    "    \n",
    "    scores = cross_val_score(model, X, Y, cv=cv, scoring=scoring, n_jobs=n_jobs)\n",
    "    res[str(scoring)] = scores\n",
    "        \n",
    "    return res\n",
    "\n",
    "def greed_searc_cv(model_class, params, config, X=deepcopy(X), Y=deepcopy(Y)):\n",
    "    res = {}\n",
    "\n",
    "    scoring = config.get('scoring', 'accuracy')\n",
    "    cv = config.get('cv', 5)\n",
    "    n_jobs = config.get('n_jobs', 4)\n",
    "    \n",
    "    model = GridSearchCV(model_class,\n",
    "                         params,\n",
    "                         scoring=scoring,\n",
    "                         cv=cv,\n",
    "                         n_jobs=n_jobs)\n",
    "    model.fit(X, Y)\n",
    "    res[f'best_{str(scoring)}_score'] = model.best_score_\n",
    "    res['best_params'] = model.best_params_\n",
    "    res['cv_results'] = model.cv_results_\n",
    "    \n",
    "    return res    "
   ]
  },
  {
   "cell_type": "markdown",
   "metadata": {},
   "source": [
    "### Test `KNeighborsClassifier`"
   ]
  },
  {
   "cell_type": "code",
   "execution_count": null,
   "metadata": {},
   "outputs": [],
   "source": [
    "calc_ml_method(KNeighborsClassifier(), CONFIG, X, Y)"
   ]
  },
  {
   "cell_type": "markdown",
   "metadata": {},
   "source": [
    "### Try `KNeighborsClassifier` Grid Search"
   ]
  },
  {
   "cell_type": "code",
   "execution_count": null,
   "metadata": {},
   "outputs": [],
   "source": [
    "greed_searc_cv(KNeighborsClassifier(),\n",
    "               {'n_neighbors': [1,3,5,7], 'weights':['uniform', 'distance']},\n",
    "               CONFIG,\n",
    "               X, Y)"
   ]
  },
  {
   "cell_type": "markdown",
   "metadata": {},
   "source": [
    "### Try 16 center features"
   ]
  },
  {
   "cell_type": "code",
   "execution_count": null,
   "metadata": {},
   "outputs": [],
   "source": [
    "# Select 16 senter featrues\n",
    "X = select_n_center_features(X, 16)"
   ]
  },
  {
   "cell_type": "code",
   "execution_count": null,
   "metadata": {},
   "outputs": [],
   "source": [
    "### Log regression\n",
    "accuracies_log_reg = calc_ml_method(LogisticRegression(), CONFIG, X, Y)\n",
    "accuracies_log_reg"
   ]
  },
  {
   "cell_type": "code",
   "execution_count": null,
   "metadata": {},
   "outputs": [],
   "source": [
    "### KNN[5]\n",
    "accuracies_knn = calc_ml_method(KNeighborsClassifier(n_neighbors=5), CONFIG, X, Y)\n",
    "accuracies_knn"
   ]
  },
  {
   "cell_type": "code",
   "execution_count": null,
   "metadata": {},
   "outputs": [],
   "source": [
    "### MLP\n",
    "accuracies_mlp = calc_ml_method(MLPClassifier(), CONFIG, X, Y)\n",
    "accuracies_mlp"
   ]
  },
  {
   "cell_type": "code",
   "execution_count": null,
   "metadata": {},
   "outputs": [],
   "source": [
    "### GaussianNB\n",
    "accuracies_GNB = calc_ml_method(GaussianNB(), CONFIG, X, Y)\n",
    "accuracies_GNB"
   ]
  },
  {
   "cell_type": "code",
   "execution_count": null,
   "metadata": {},
   "outputs": [],
   "source": [
    "### SVC\n",
    "accuracies_SVC = calc_ml_method(svm.SVC(), CONFIG, X, Y)\n",
    "accuracies_SVC"
   ]
  },
  {
   "cell_type": "code",
   "execution_count": null,
   "metadata": {},
   "outputs": [],
   "source": []
  }
 ],
 "metadata": {
  "kernelspec": {
   "display_name": "Python 3",
   "language": "python",
   "name": "python3"
  },
  "language_info": {
   "codemirror_mode": {
    "name": "ipython",
    "version": 3
   },
   "file_extension": ".py",
   "mimetype": "text/x-python",
   "name": "python",
   "nbconvert_exporter": "python",
   "pygments_lexer": "ipython3",
   "version": "3.8.10"
  }
 },
 "nbformat": 4,
 "nbformat_minor": 5
}
