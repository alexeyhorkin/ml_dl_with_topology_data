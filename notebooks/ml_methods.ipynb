{
 "cells": [
  {
   "cell_type": "code",
   "execution_count": 1,
   "metadata": {},
   "outputs": [
    {
     "name": "stdout",
     "output_type": "stream",
     "text": [
      "[ Using Seed :  42  ]\n"
     ]
    }
   ],
   "source": [
    "import random\n",
    "import numpy as np\n",
    "import pandas as pd\n",
    "import matplotlib.pyplot as plt\n",
    "\n",
    "from os.path import join as p_join\n",
    "\n",
    "import seaborn as sns\n",
    "\n",
    "\n",
    "##################################\n",
    "## GLOBAL SETTINGS ###############\n",
    "##################################\n",
    "plt.rcParams[\"figure.figsize\"] = (12,8)\n",
    "\n",
    "def seed_all(seed=42):\n",
    "\n",
    "    random.seed(seed)\n",
    "    np.random.seed(seed)\n",
    "    print(\"[ Using Seed : \", seed, \" ]\")\n",
    "\n",
    "####################################\n",
    "#####   SEED ALL EXPERIMENTS   #####\n",
    "####################################\n",
    "seed_all()"
   ]
  },
  {
   "cell_type": "code",
   "execution_count": 2,
   "metadata": {},
   "outputs": [],
   "source": [
    "X_path = p_join('data', 'Input.txt')\n",
    "Y_path = p_join('data', 'Topology.txt')\n",
    "\n",
    "X = pd.read_csv(X_path).values\n",
    "Y = pd.read_csv(Y_path).values.squeeze()"
   ]
  },
  {
   "cell_type": "code",
   "execution_count": 3,
   "metadata": {},
   "outputs": [],
   "source": [
    "###############################\n",
    "##### IMPORT ML METHODS   #####\n",
    "###############################\n",
    "from sklearn.neighbors import KNeighborsClassifier\n",
    "from sklearn.neural_network import MLPClassifier\n",
    "from sklearn import svm\n",
    "from sklearn.naive_bayes import GaussianNB\n",
    "from sklearn.linear_model import LogisticRegression\n",
    "from sklearn.linear_model import Lasso\n",
    "from sklearn.linear_model import LinearRegression\n",
    "from sklearn.linear_model import SGDClassifier\n",
    "from sklearn.ensemble import RandomForestClassifier\n",
    "\n",
    "\n",
    "#################################\n",
    "####### GLOBAL CONFIG ###########\n",
    "#################################\n",
    "CONFIG = {'scoring': 'accuracy',\n",
    "          'cv': 5,\n",
    "          'n_jobs': -1}"
   ]
  },
  {
   "cell_type": "code",
   "execution_count": 4,
   "metadata": {},
   "outputs": [],
   "source": [
    "def select_n_center_features(data: np.ndarray, n_features: int) -> np.ndarray:\n",
    "    from copy import deepcopy\n",
    "\n",
    "    total_components = data.shape[1]\n",
    "    start = int((total_components - n_features)/2)\n",
    "    res = deepcopy(data)[:, start: start + n_features]\n",
    "    print(f'Selected features from indexes:  [{start}, {start + n_features})')\n",
    "    return res"
   ]
  },
  {
   "cell_type": "code",
   "execution_count": 5,
   "metadata": {},
   "outputs": [],
   "source": [
    "from sklearn.model_selection import cross_val_score\n",
    "from sklearn.model_selection import GridSearchCV\n",
    "from copy import deepcopy\n",
    "\n",
    "def calc_ml_method(model, config, X, Y):\n",
    "    res = {}\n",
    "\n",
    "    scoring = config.get('scoring', 'accuracy')\n",
    "    cv = config.get('cv', 5)\n",
    "    n_jobs = config.get('n_jobs', 4)\n",
    "    \n",
    "    scores = cross_val_score(model, X, Y, cv=cv, scoring=scoring, n_jobs=n_jobs)\n",
    "    res[str(scoring)] = scores\n",
    "        \n",
    "    return res\n",
    "\n",
    "def greed_searc_cv(model_class, params, config, X=deepcopy(X), Y=deepcopy(Y)):\n",
    "    res = {}\n",
    "\n",
    "    scoring = config.get('scoring', 'accuracy')\n",
    "    cv = config.get('cv', 5)\n",
    "    n_jobs = config.get('n_jobs', 4)\n",
    "    \n",
    "    model = GridSearchCV(model_class,\n",
    "                         params,\n",
    "                         scoring=scoring,\n",
    "                         cv=cv,\n",
    "                         n_jobs=n_jobs)\n",
    "    model.fit(X, Y)\n",
    "    res[f'best_{str(scoring)}_score'] = model.best_score_\n",
    "    res['best_params'] = model.best_params_\n",
    "    res['cv_results'] = model.cv_results_\n",
    "    \n",
    "    return res    "
   ]
  },
  {
   "cell_type": "markdown",
   "metadata": {},
   "source": [
    "### Test `KNeighborsClassifier`"
   ]
  },
  {
   "cell_type": "code",
   "execution_count": 6,
   "metadata": {},
   "outputs": [
    {
     "data": {
      "text/plain": [
       "{'accuracy': array([1., 1., 1., 1., 1.])}"
      ]
     },
     "execution_count": 6,
     "metadata": {},
     "output_type": "execute_result"
    }
   ],
   "source": [
    "calc_ml_method(KNeighborsClassifier(), CONFIG, X, Y)"
   ]
  },
  {
   "cell_type": "markdown",
   "metadata": {},
   "source": [
    "### Try `KNeighborsClassifier` Grid Search"
   ]
  },
  {
   "cell_type": "code",
   "execution_count": 7,
   "metadata": {},
   "outputs": [
    {
     "data": {
      "text/plain": [
       "{'best_accuracy_score': 1.0,\n",
       " 'best_params': {'n_neighbors': 1, 'weights': 'uniform'},\n",
       " 'cv_results': {'mean_fit_time': array([0.01911035, 0.01076341, 0.02633295, 0.01338062, 0.01873851,\n",
       "         0.01313734, 0.01674953, 0.01273146]),\n",
       "  'std_fit_time': array([0.00700309, 0.00273689, 0.01538771, 0.00226629, 0.00678725,\n",
       "         0.00379296, 0.0097446 , 0.00298891]),\n",
       "  'mean_score_time': array([3.42361193, 2.92473645, 3.89207697, 3.13713341, 3.57916365,\n",
       "         3.32824373, 3.64509635, 2.34721484]),\n",
       "  'std_score_time': array([0.13640193, 0.0603397 , 0.20487809, 0.12171729, 0.15756408,\n",
       "         0.20883695, 0.15065266, 0.45414347]),\n",
       "  'param_n_neighbors': masked_array(data=[1, 1, 3, 3, 5, 5, 7, 7],\n",
       "               mask=[False, False, False, False, False, False, False, False],\n",
       "         fill_value='?',\n",
       "              dtype=object),\n",
       "  'param_weights': masked_array(data=['uniform', 'distance', 'uniform', 'distance',\n",
       "                     'uniform', 'distance', 'uniform', 'distance'],\n",
       "               mask=[False, False, False, False, False, False, False, False],\n",
       "         fill_value='?',\n",
       "              dtype=object),\n",
       "  'params': [{'n_neighbors': 1, 'weights': 'uniform'},\n",
       "   {'n_neighbors': 1, 'weights': 'distance'},\n",
       "   {'n_neighbors': 3, 'weights': 'uniform'},\n",
       "   {'n_neighbors': 3, 'weights': 'distance'},\n",
       "   {'n_neighbors': 5, 'weights': 'uniform'},\n",
       "   {'n_neighbors': 5, 'weights': 'distance'},\n",
       "   {'n_neighbors': 7, 'weights': 'uniform'},\n",
       "   {'n_neighbors': 7, 'weights': 'distance'}],\n",
       "  'split0_test_score': array([1., 1., 1., 1., 1., 1., 1., 1.]),\n",
       "  'split1_test_score': array([1., 1., 1., 1., 1., 1., 1., 1.]),\n",
       "  'split2_test_score': array([1., 1., 1., 1., 1., 1., 1., 1.]),\n",
       "  'split3_test_score': array([1., 1., 1., 1., 1., 1., 1., 1.]),\n",
       "  'split4_test_score': array([1., 1., 1., 1., 1., 1., 1., 1.]),\n",
       "  'mean_test_score': array([1., 1., 1., 1., 1., 1., 1., 1.]),\n",
       "  'std_test_score': array([0., 0., 0., 0., 0., 0., 0., 0.]),\n",
       "  'rank_test_score': array([1, 1, 1, 1, 1, 1, 1, 1], dtype=int32)}}"
      ]
     },
     "execution_count": 7,
     "metadata": {},
     "output_type": "execute_result"
    }
   ],
   "source": [
    "greed_searc_cv(KNeighborsClassifier(),\n",
    "               {'n_neighbors': [1,3,5,7], 'weights':['uniform', 'distance']},\n",
    "               CONFIG,\n",
    "               X, Y)"
   ]
  },
  {
   "cell_type": "markdown",
   "metadata": {},
   "source": [
    "### Try 16 center features"
   ]
  },
  {
   "cell_type": "code",
   "execution_count": 8,
   "metadata": {},
   "outputs": [
    {
     "name": "stdout",
     "output_type": "stream",
     "text": [
      "Selected features from indexes:  [4, 20)\n"
     ]
    }
   ],
   "source": [
    "# Select 16 senter featrues\n",
    "X = select_n_center_features(X, 16)"
   ]
  },
  {
   "cell_type": "code",
   "execution_count": 9,
   "metadata": {},
   "outputs": [
    {
     "data": {
      "text/plain": [
       "{'accuracy': array([1., 1., 1., 1., 1.])}"
      ]
     },
     "execution_count": 9,
     "metadata": {},
     "output_type": "execute_result"
    }
   ],
   "source": [
    "### Log regression\n",
    "accuracies_log_reg = calc_ml_method(LogisticRegression(), CONFIG, X, Y)\n",
    "accuracies_log_reg"
   ]
  },
  {
   "cell_type": "code",
   "execution_count": 10,
   "metadata": {},
   "outputs": [
    {
     "data": {
      "text/plain": [
       "{'accuracy': array([1., 1., 1., 1., 1.])}"
      ]
     },
     "execution_count": 10,
     "metadata": {},
     "output_type": "execute_result"
    }
   ],
   "source": [
    "### KNN[5]\n",
    "accuracies_knn = calc_ml_method(KNeighborsClassifier(n_neighbors=5), CONFIG, X, Y)\n",
    "accuracies_knn"
   ]
  },
  {
   "cell_type": "code",
   "execution_count": 11,
   "metadata": {},
   "outputs": [
    {
     "data": {
      "text/plain": [
       "{'accuracy': array([1., 1., 1., 1., 1.])}"
      ]
     },
     "execution_count": 11,
     "metadata": {},
     "output_type": "execute_result"
    }
   ],
   "source": [
    "### MLP\n",
    "accuracies_mlp = calc_ml_method(MLPClassifier(), CONFIG, X, Y)\n",
    "accuracies_mlp"
   ]
  },
  {
   "cell_type": "code",
   "execution_count": 12,
   "metadata": {},
   "outputs": [
    {
     "data": {
      "text/plain": [
       "{'accuracy': array([1.     , 1.     , 0.99975, 1.     , 1.     ])}"
      ]
     },
     "execution_count": 12,
     "metadata": {},
     "output_type": "execute_result"
    }
   ],
   "source": [
    "### GaussianNB\n",
    "accuracies_GNB = calc_ml_method(GaussianNB(), CONFIG, X, Y)\n",
    "accuracies_GNB"
   ]
  },
  {
   "cell_type": "code",
   "execution_count": 13,
   "metadata": {},
   "outputs": [
    {
     "data": {
      "text/plain": [
       "{'accuracy': array([1., 1., 1., 1., 1.])}"
      ]
     },
     "execution_count": 13,
     "metadata": {},
     "output_type": "execute_result"
    }
   ],
   "source": [
    "### SVC\n",
    "accuracies_SVC = calc_ml_method(svm.SVC(), CONFIG, X, Y)\n",
    "accuracies_SVC"
   ]
  },
  {
   "cell_type": "code",
   "execution_count": 14,
   "metadata": {},
   "outputs": [
    {
     "data": {
      "text/plain": [
       "{'accuracy': array([1., 1., 1., 1., 1.])}"
      ]
     },
     "execution_count": 14,
     "metadata": {},
     "output_type": "execute_result"
    }
   ],
   "source": [
    "### Lin Classifier\n",
    "accuracies_lin_reg = calc_ml_method(SGDClassifier(), CONFIG, X, Y)\n",
    "accuracies_lin_reg"
   ]
  },
  {
   "cell_type": "code",
   "execution_count": 15,
   "metadata": {},
   "outputs": [
    {
     "data": {
      "text/plain": [
       "{'accuracy': array([1., 1., 1., 1., 1.])}"
      ]
     },
     "execution_count": 15,
     "metadata": {},
     "output_type": "execute_result"
    }
   ],
   "source": [
    "### RF Classifier\n",
    "accuracies_rf = calc_ml_method(RandomForestClassifier(random_state=42), CONFIG, X, Y)\n",
    "accuracies_rf"
   ]
  },
  {
   "cell_type": "markdown",
   "metadata": {},
   "source": [
    "### Feature importance on entire dataset"
   ]
  },
  {
   "cell_type": "code",
   "execution_count": 16,
   "metadata": {},
   "outputs": [
    {
     "name": "stdout",
     "output_type": "stream",
     "text": [
      "Feature: 0, Score: -0.10474\n",
      "Feature: 1, Score: 2.82291\n",
      "Feature: 2, Score: -0.20177\n",
      "Feature: 3, Score: 10.30013\n",
      "Feature: 4, Score: 0.36155\n",
      "Feature: 5, Score: 24.21019\n",
      "Feature: 6, Score: -0.09909\n",
      "Feature: 7, Score: 8.75947\n",
      "Feature: 8, Score: 0.10280\n",
      "Feature: 9, Score: -31.73115\n",
      "Feature: 10, Score: 0.03403\n",
      "Feature: 11, Score: 20.00429\n",
      "Feature: 12, Score: -0.05892\n",
      "Feature: 13, Score: -20.00937\n",
      "Feature: 14, Score: -0.04837\n",
      "Feature: 15, Score: 31.70914\n",
      "Feature: 16, Score: -0.00182\n",
      "Feature: 17, Score: -8.83024\n",
      "Feature: 18, Score: 0.07934\n",
      "Feature: 19, Score: -24.01657\n",
      "Feature: 20, Score: 0.00438\n",
      "Feature: 21, Score: -9.98427\n",
      "Feature: 22, Score: -0.00858\n",
      "Feature: 23, Score: -3.27096\n"
     ]
    },
    {
     "data": {
      "image/png": "[encoded data removed]",
      "text/plain": [
       "<Figure size 864x576 with 1 Axes>"
      ]
     },
     "metadata": {
      "needs_background": "light"
     },
     "output_type": "display_data"
    }
   ],
   "source": [
    "# Train Log Reg on entire dataset to get feature importance\n",
    "X = pd.read_csv(X_path).values\n",
    "Y = pd.read_csv(Y_path).values.squeeze()\n",
    "\n",
    "model = LogisticRegression()\n",
    "model.fit(X, Y)\n",
    "\n",
    "# get importance\n",
    "importance = model.coef_[0]\n",
    "# summarize feature importance\n",
    "for i,v in enumerate(importance):\n",
    "\tprint('Feature: %0d, Score: %.5f' % (i,v))\n",
    "# plot feature importance\n",
    "plt.bar([x for x in range(len(importance))], importance)\n",
    "plt.show()"
   ]
  },
  {
   "cell_type": "code",
   "execution_count": 17,
   "metadata": {},
   "outputs": [
    {
     "name": "stdout",
     "output_type": "stream",
     "text": [
      "Feature: 0, Score: -0.13821\n",
      "Feature: 1, Score: 2.82622\n",
      "Feature: 2, Score: -0.23941\n",
      "Feature: 3, Score: 9.01543\n",
      "Feature: 4, Score: 0.27715\n",
      "Feature: 5, Score: 17.98025\n",
      "Feature: 6, Score: -0.21439\n",
      "Feature: 7, Score: 5.53676\n",
      "Feature: 8, Score: 0.21900\n",
      "Feature: 9, Score: -18.86836\n",
      "Feature: 10, Score: 0.02994\n",
      "Feature: 11, Score: 8.00508\n",
      "Feature: 12, Score: -0.13760\n",
      "Feature: 13, Score: -8.07133\n",
      "Feature: 14, Score: -0.09327\n",
      "Feature: 15, Score: 18.93768\n",
      "Feature: 16, Score: 0.06377\n",
      "Feature: 17, Score: -5.54749\n",
      "Feature: 18, Score: 0.14385\n",
      "Feature: 19, Score: -17.87185\n",
      "Feature: 20, Score: -0.01938\n",
      "Feature: 21, Score: -8.73723\n",
      "Feature: 22, Score: -0.02321\n",
      "Feature: 23, Score: -3.34025\n"
     ]
    },
    {
     "data": {
      "image/png": "[encoded data removed]",
      "text/plain": [
       "<Figure size 864x576 with 1 Axes>"
      ]
     },
     "metadata": {
      "needs_background": "light"
     },
     "output_type": "display_data"
    }
   ],
   "source": [
    "# Train Lin Reg on entire dataset to get feature importance\n",
    "X = pd.read_csv(X_path).values\n",
    "Y = pd.read_csv(Y_path).values.squeeze()\n",
    "\n",
    "model = SGDClassifier()\n",
    "model.fit(X, Y)\n",
    "\n",
    "# get importance\n",
    "importance = model.coef_[0]\n",
    "# importance.shape\n",
    "# summarize feature importance\n",
    "for i,v in enumerate(importance):\n",
    "\tprint('Feature: %0d, Score: %.5f' % (i,v))\n",
    "# plot feature importance\n",
    "plt.bar([x for x in range(len(importance))], importance)\n",
    "plt.show()"
   ]
  },
  {
   "cell_type": "code",
   "execution_count": 18,
   "metadata": {},
   "outputs": [
    {
     "data": {
      "image/png": "[encoded data removed]",
      "text/plain": [
       "<Figure size 864x576 with 1 Axes>"
      ]
     },
     "metadata": {
      "needs_background": "light"
     },
     "output_type": "display_data"
    }
   ],
   "source": [
    "# Train Random Forest on entire dataset to get feature importance\n",
    "X = pd.read_csv(X_path).values\n",
    "Y = pd.read_csv(Y_path).values.squeeze()\n",
    "\n",
    "forest = RandomForestClassifier(random_state=42)\n",
    "forest.fit(X, Y)\n",
    "\n",
    "importances = forest.feature_importances_\n",
    "std = np.std([tree.feature_importances_ for tree in forest.estimators_], axis=0)\n",
    "\n",
    "feature_names = [str(i + 1) for i in range(X.shape[1])]\n",
    "forest_importances = pd.Series(importances, index=feature_names)\n",
    "\n",
    "fig, ax = plt.subplots()\n",
    "forest_importances.plot.bar(ax=ax)# yerr=std)\n",
    "ax.set_title(\"Feature importances using MDI\")\n",
    "ax.set_ylabel(\"Mean decrease in impurity\")\n",
    "fig.tight_layout()"
   ]
  },
  {
   "cell_type": "code",
   "execution_count": null,
   "metadata": {},
   "outputs": [],
   "source": []
  }
 ],
 "metadata": {
  "kernelspec": {
   "display_name": "Python 3",
   "language": "python",
   "name": "python3"
  },
  "language_info": {
   "codemirror_mode": {
    "name": "ipython",
    "version": 3
   },
   "file_extension": ".py",
   "mimetype": "text/x-python",
   "name": "python",
   "nbconvert_exporter": "python",
   "pygments_lexer": "ipython3",
   "version": "3.8.10"
  }
 },
 "nbformat": 4,
 "nbformat_minor": 5
}
