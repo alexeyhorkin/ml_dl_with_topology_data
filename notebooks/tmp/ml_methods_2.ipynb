{
 "cells": [
  {
   "cell_type": "code",
   "execution_count": 2,
   "id": "34fa79e7",
   "metadata": {},
   "outputs": [
    {
     "name": "stdout",
     "output_type": "stream",
     "text": [
      "[ Using Seed :  42  ]\n"
     ]
    }
   ],
   "source": [
    "import random\n",
    "import numpy as np\n",
    "import pandas as pd\n",
    "import matplotlib.pyplot as plt\n",
    "\n",
    "from os.path import join as p_join\n",
    "\n",
    "import seaborn as sns\n",
    "\n",
    "\n",
    "##################################\n",
    "## GLOBAL SETTINGS ###############\n",
    "##################################\n",
    "plt.rcParams[\"figure.figsize\"] = (12,8)\n",
    "\n",
    "def seed_all(seed=42):\n",
    "\n",
    "    random.seed(seed)\n",
    "    np.random.seed(seed)\n",
    "    print(\"[ Using Seed : \", seed, \" ]\")\n",
    "\n",
    "####################################\n",
    "#####   SEED ALL EXPERIMENTS   #####\n",
    "####################################\n",
    "seed_all()"
   ]
  },
  {
   "cell_type": "code",
   "execution_count": 3,
   "id": "6ba78da5",
   "metadata": {},
   "outputs": [],
   "source": [
    "X_path = p_join('..', '..', 'data_2', 'N2=21_L=1.6_input=2', '2nd_exp_Input.txt')\n",
    "Y_path_down = p_join('..', '..', 'data_2', 'N2=21_L=1.6_input=2', '2nd_exp_Topology_down.txt')\n",
    "Y_path_up = p_join('..', '..', 'data_2', 'N2=21_L=1.6_input=2', '2nd_exp_Topology_up.txt')\n",
    "params_path = p_join('..', '..', 'data_2', 'N2=21_L=1.6_input=2', '2nd_exp_Parameters.txt')\n",
    "\n",
    "\n",
    "X = pd.read_csv(X_path).values\n",
    "Y_down = pd.read_csv(Y_path_down)\n",
    "Y_up = pd.read_csv(Y_path_up)\n",
    "P = pd.read_csv(params_path)\n",
    "\n",
    "map_clases_back = {0: '0,0', 1: '0,1', 2: '1,0', 3: '1,1'}\n",
    "Y = []\n",
    "for i in range(Y_up.shape[0]):\n",
    "    if Y_up.values[i] == 0 and Y_down.values[i] == 0:\n",
    "        Y.append(0)\n",
    "    elif Y_up.values[i] == 0 and Y_down.values[i] == 1:\n",
    "        Y.append(1)\n",
    "    elif Y_up.values[i] == 1 and Y_down.values[i] == 0:\n",
    "        Y.append(2)\n",
    "    elif Y_up.values[i] == 1 and Y_down.values[i] == 1:\n",
    "        Y.append(3)\n",
    "Y = np.array(Y)"
   ]
  },
  {
   "cell_type": "code",
   "execution_count": 4,
   "id": "0e851d94",
   "metadata": {},
   "outputs": [],
   "source": [
    "###############################\n",
    "##### IMPORT ML METHODS   #####\n",
    "###############################\n",
    "from sklearn.neighbors import KNeighborsClassifier\n",
    "from sklearn.neural_network import MLPClassifier\n",
    "from sklearn import svm\n",
    "from sklearn.naive_bayes import GaussianNB\n",
    "from sklearn.linear_model import LogisticRegression\n",
    "from sklearn.linear_model import Lasso\n",
    "from sklearn.linear_model import LinearRegression\n",
    "from sklearn.linear_model import SGDClassifier\n",
    "from sklearn.ensemble import RandomForestClassifier\n",
    "\n",
    "\n",
    "#################################\n",
    "####### GLOBAL CONFIG ###########\n",
    "#################################\n",
    "CONFIG = {'scoring': 'accuracy',\n",
    "          'cv': 5,\n",
    "          'n_jobs': -1}"
   ]
  },
  {
   "cell_type": "code",
   "execution_count": 5,
   "id": "f5ce0877",
   "metadata": {},
   "outputs": [],
   "source": [
    "def select_n_center_features(data: np.ndarray, n_features: int) -> np.ndarray:\n",
    "    from copy import deepcopy\n",
    "\n",
    "    total_components = data.shape[1]\n",
    "    start = int((total_components - n_features)/2)\n",
    "    res = deepcopy(data)[:, start: start + n_features]\n",
    "    print(f'Selected features from indexes:  [{start}, {start + n_features})')\n",
    "    return res"
   ]
  },
  {
   "cell_type": "code",
   "execution_count": 6,
   "id": "e337b0ab",
   "metadata": {},
   "outputs": [],
   "source": [
    "from sklearn.model_selection import cross_val_score\n",
    "from sklearn.model_selection import GridSearchCV\n",
    "from copy import deepcopy\n",
    "\n",
    "def calc_ml_method(model, config, X, Y):\n",
    "    res = {}\n",
    "\n",
    "    scoring = config.get('scoring', 'accuracy')\n",
    "    cv = config.get('cv', 5)\n",
    "    n_jobs = config.get('n_jobs', 4)\n",
    "    \n",
    "    scores = cross_val_score(model, X, Y, cv=cv, scoring=scoring, n_jobs=n_jobs)\n",
    "    res[str(scoring)] = scores\n",
    "        \n",
    "    return res\n",
    "\n",
    "def greed_searc_cv(model_class, params, config, X=deepcopy(X), Y=deepcopy(Y)):\n",
    "    res = {}\n",
    "\n",
    "    scoring = config.get('scoring', 'accuracy')\n",
    "    cv = config.get('cv', 5)\n",
    "    n_jobs = config.get('n_jobs', 4)\n",
    "    \n",
    "    model = GridSearchCV(model_class,\n",
    "                         params,\n",
    "                         scoring=scoring,\n",
    "                         cv=cv,\n",
    "                         n_jobs=n_jobs)\n",
    "    model.fit(X, Y)\n",
    "    res[f'best_{str(scoring)}_score'] = model.best_score_\n",
    "    res['best_params'] = model.best_params_\n",
    "    res['cv_results'] = model.cv_results_\n",
    "    \n",
    "    return res    "
   ]
  },
  {
   "cell_type": "markdown",
   "id": "627fd3b5",
   "metadata": {},
   "source": [
    "### Test `KNeighborsClassifier`"
   ]
  },
  {
   "cell_type": "code",
   "execution_count": 7,
   "id": "7125199c",
   "metadata": {},
   "outputs": [
    {
     "data": {
      "text/plain": [
       "{'accuracy': array([1., 1., 1., 1., 1.])}"
      ]
     },
     "execution_count": 7,
     "metadata": {},
     "output_type": "execute_result"
    }
   ],
   "source": [
    "calc_ml_method(KNeighborsClassifier(), CONFIG, X, Y)"
   ]
  },
  {
   "cell_type": "markdown",
   "id": "fffd8fcf",
   "metadata": {},
   "source": [
    "### Try `KNeighborsClassifier` Grid Search"
   ]
  },
  {
   "cell_type": "code",
   "execution_count": 9,
   "id": "e66f2047",
   "metadata": {},
   "outputs": [
    {
     "data": {
      "text/plain": [
       "{'best_accuracy_score': 1.0,\n",
       " 'best_params': {'n_neighbors': 1, 'weights': 'uniform'},\n",
       " 'cv_results': {'mean_fit_time': array([0.00299387, 0.00281587, 0.00284877, 0.00183864, 0.00224924,\n",
       "         0.00230088, 0.00271811, 0.002282  ]),\n",
       "  'std_fit_time': array([0.00065853, 0.00150719, 0.00045669, 0.00040798, 0.00037842,\n",
       "         0.00038618, 0.00080227, 0.00069967]),\n",
       "  'mean_score_time': array([0.11821737, 0.08208146, 0.1286994 , 0.08850942, 0.11996851,\n",
       "         0.09154525, 0.13649793, 0.08166766]),\n",
       "  'std_score_time': array([0.02136094, 0.01296937, 0.01250829, 0.00593477, 0.00705528,\n",
       "         0.00561202, 0.01006743, 0.01995235]),\n",
       "  'param_n_neighbors': masked_array(data=[1, 1, 3, 3, 5, 5, 7, 7],\n",
       "               mask=[False, False, False, False, False, False, False, False],\n",
       "         fill_value='?',\n",
       "              dtype=object),\n",
       "  'param_weights': masked_array(data=['uniform', 'distance', 'uniform', 'distance',\n",
       "                     'uniform', 'distance', 'uniform', 'distance'],\n",
       "               mask=[False, False, False, False, False, False, False, False],\n",
       "         fill_value='?',\n",
       "              dtype=object),\n",
       "  'params': [{'n_neighbors': 1, 'weights': 'uniform'},\n",
       "   {'n_neighbors': 1, 'weights': 'distance'},\n",
       "   {'n_neighbors': 3, 'weights': 'uniform'},\n",
       "   {'n_neighbors': 3, 'weights': 'distance'},\n",
       "   {'n_neighbors': 5, 'weights': 'uniform'},\n",
       "   {'n_neighbors': 5, 'weights': 'distance'},\n",
       "   {'n_neighbors': 7, 'weights': 'uniform'},\n",
       "   {'n_neighbors': 7, 'weights': 'distance'}],\n",
       "  'split0_test_score': array([1., 1., 1., 1., 1., 1., 1., 1.]),\n",
       "  'split1_test_score': array([1., 1., 1., 1., 1., 1., 1., 1.]),\n",
       "  'split2_test_score': array([1., 1., 1., 1., 1., 1., 1., 1.]),\n",
       "  'split3_test_score': array([1., 1., 1., 1., 1., 1., 1., 1.]),\n",
       "  'split4_test_score': array([1., 1., 1., 1., 1., 1., 1., 1.]),\n",
       "  'mean_test_score': array([1., 1., 1., 1., 1., 1., 1., 1.]),\n",
       "  'std_test_score': array([0., 0., 0., 0., 0., 0., 0., 0.]),\n",
       "  'rank_test_score': array([1, 1, 1, 1, 1, 1, 1, 1], dtype=int32)}}"
      ]
     },
     "execution_count": 9,
     "metadata": {},
     "output_type": "execute_result"
    }
   ],
   "source": [
    "greed_searc_cv(KNeighborsClassifier(),\n",
    "               {'n_neighbors': [1,3,5,7], 'weights':['uniform', 'distance']},\n",
    "               CONFIG,\n",
    "               X, Y)"
   ]
  },
  {
   "cell_type": "markdown",
   "id": "0726536f",
   "metadata": {},
   "source": [
    "### Try 16 center features"
   ]
  },
  {
   "cell_type": "code",
   "execution_count": 10,
   "id": "ab33a6a1",
   "metadata": {},
   "outputs": [
    {
     "name": "stdout",
     "output_type": "stream",
     "text": [
      "Selected features from indexes:  [2, 18)\n"
     ]
    }
   ],
   "source": [
    "# Select 16 senter featrues\n",
    "X = select_n_center_features(X, 16)"
   ]
  },
  {
   "cell_type": "code",
   "execution_count": 11,
   "id": "6fd2dd5b",
   "metadata": {},
   "outputs": [
    {
     "data": {
      "text/plain": [
       "{'accuracy': array([1., 1., 1., 1., 1.])}"
      ]
     },
     "execution_count": 11,
     "metadata": {},
     "output_type": "execute_result"
    }
   ],
   "source": [
    "### Log regression\n",
    "accuracies_log_reg = calc_ml_method(LogisticRegression(), CONFIG, X, Y)\n",
    "accuracies_log_reg"
   ]
  },
  {
   "cell_type": "code",
   "execution_count": 12,
   "id": "40c4b5cf",
   "metadata": {},
   "outputs": [
    {
     "data": {
      "text/plain": [
       "{'accuracy': array([1., 1., 1., 1., 1.])}"
      ]
     },
     "execution_count": 12,
     "metadata": {},
     "output_type": "execute_result"
    }
   ],
   "source": [
    "### KNN[5]\n",
    "accuracies_knn = calc_ml_method(KNeighborsClassifier(n_neighbors=5), CONFIG, X, Y)\n",
    "accuracies_knn"
   ]
  },
  {
   "cell_type": "code",
   "execution_count": 13,
   "id": "d37924ee",
   "metadata": {},
   "outputs": [
    {
     "data": {
      "text/plain": [
       "{'accuracy': array([1., 1., 1., 1., 1.])}"
      ]
     },
     "execution_count": 13,
     "metadata": {},
     "output_type": "execute_result"
    }
   ],
   "source": [
    "### MLP\n",
    "accuracies_mlp = calc_ml_method(MLPClassifier(), CONFIG, X, Y)\n",
    "accuracies_mlp"
   ]
  },
  {
   "cell_type": "code",
   "execution_count": 14,
   "id": "93b24d55",
   "metadata": {},
   "outputs": [
    {
     "data": {
      "text/plain": [
       "{'accuracy': array([1., 1., 1., 1., 1.])}"
      ]
     },
     "execution_count": 14,
     "metadata": {},
     "output_type": "execute_result"
    }
   ],
   "source": [
    "### GaussianNB\n",
    "accuracies_GNB = calc_ml_method(GaussianNB(), CONFIG, X, Y)\n",
    "accuracies_GNB"
   ]
  },
  {
   "cell_type": "code",
   "execution_count": 15,
   "id": "17fbc180",
   "metadata": {},
   "outputs": [
    {
     "data": {
      "text/plain": [
       "{'accuracy': array([1., 1., 1., 1., 1.])}"
      ]
     },
     "execution_count": 15,
     "metadata": {},
     "output_type": "execute_result"
    }
   ],
   "source": [
    "### SVC\n",
    "accuracies_SVC = calc_ml_method(svm.SVC(), CONFIG, X, Y)\n",
    "accuracies_SVC"
   ]
  },
  {
   "cell_type": "code",
   "execution_count": 16,
   "id": "301a3061",
   "metadata": {},
   "outputs": [
    {
     "data": {
      "text/plain": [
       "{'accuracy': array([1., 1., 1., 1., 1.])}"
      ]
     },
     "execution_count": 16,
     "metadata": {},
     "output_type": "execute_result"
    }
   ],
   "source": [
    "### Lin Classifier\n",
    "accuracies_lin_reg = calc_ml_method(SGDClassifier(), CONFIG, X, Y)\n",
    "accuracies_lin_reg"
   ]
  },
  {
   "cell_type": "code",
   "execution_count": 17,
   "id": "846495c4",
   "metadata": {},
   "outputs": [
    {
     "data": {
      "text/plain": [
       "{'accuracy': array([1., 1., 1., 1., 1.])}"
      ]
     },
     "execution_count": 17,
     "metadata": {},
     "output_type": "execute_result"
    }
   ],
   "source": [
    "### RF Classifier\n",
    "accuracies_rf = calc_ml_method(RandomForestClassifier(random_state=42), CONFIG, X, Y)\n",
    "accuracies_rf"
   ]
  },
  {
   "cell_type": "markdown",
   "id": "af72ef97",
   "metadata": {},
   "source": [
    "### Feature importance on entire dataset"
   ]
  },
  {
   "cell_type": "code",
   "execution_count": 22,
   "id": "6386954f",
   "metadata": {},
   "outputs": [
    {
     "name": "stdout",
     "output_type": "stream",
     "text": [
      "Feature: 0, Score: 0.00000\n",
      "Feature: 1, Score: 0.00000\n",
      "Feature: 2, Score: 0.00000\n",
      "Feature: 3, Score: 0.00000\n",
      "Feature: 4, Score: 0.00167\n",
      "Feature: 5, Score: 0.00027\n",
      "Feature: 6, Score: 0.33012\n",
      "Feature: 7, Score: 0.01675\n",
      "Feature: 8, Score: 11.23340\n",
      "Feature: 9, Score: -0.16602\n",
      "Feature: 10, Score: 1.78998\n",
      "Feature: 11, Score: 0.99902\n",
      "Feature: 12, Score: -2.88763\n",
      "Feature: 13, Score: -0.22972\n",
      "Feature: 14, Score: -10.87900\n",
      "Feature: 15, Score: -0.13343\n",
      "Feature: 16, Score: -0.33109\n",
      "Feature: 17, Score: -0.00462\n",
      "Feature: 18, Score: -0.00180\n",
      "Feature: 19, Score: -0.00003\n",
      "Feature: 20, Score: -3.85133\n"
     ]
    },
    {
     "data": {
      "image/png": "[encoded data removed]",
      "text/plain": [
       "<Figure size 864x576 with 1 Axes>"
      ]
     },
     "metadata": {
      "needs_background": "light"
     },
     "output_type": "display_data"
    }
   ],
   "source": [
    "# Train Log Reg on entire dataset to get feature importance\n",
    "X = pd.read_csv(X_path).values\n",
    "# X = select_n_center_features(X, 16)\n",
    "\n",
    "model = LogisticRegression()\n",
    "model.fit(X, Y)\n",
    "\n",
    "# get importance\n",
    "importance = model.coef_[0]\n",
    "# summarize feature importance\n",
    "for i,v in enumerate(importance):\n",
    "\tprint('Feature: %0d, Score: %.5f' % (i,v))\n",
    "# plot feature importance\n",
    "plt.bar([x for x in range(len(importance))], importance)\n",
    "plt.show()"
   ]
  },
  {
   "cell_type": "code",
   "execution_count": 23,
   "id": "8b7711ea",
   "metadata": {},
   "outputs": [
    {
     "name": "stdout",
     "output_type": "stream",
     "text": [
      "Feature: 0, Score: 0.00000\n",
      "Feature: 1, Score: -0.00000\n",
      "Feature: 2, Score: 0.00000\n",
      "Feature: 3, Score: -0.00000\n",
      "Feature: 4, Score: 0.00230\n",
      "Feature: 5, Score: -0.00129\n",
      "Feature: 6, Score: 0.48328\n",
      "Feature: 7, Score: -0.10350\n",
      "Feature: 8, Score: 16.92264\n",
      "Feature: 9, Score: -0.39868\n",
      "Feature: 10, Score: 1.22957\n",
      "Feature: 11, Score: 0.37835\n",
      "Feature: 12, Score: -2.37861\n",
      "Feature: 13, Score: -0.37723\n",
      "Feature: 14, Score: -18.43621\n",
      "Feature: 15, Score: -0.10117\n",
      "Feature: 16, Score: -0.52997\n",
      "Feature: 17, Score: -0.00133\n",
      "Feature: 18, Score: -0.00258\n",
      "Feature: 19, Score: -0.00001\n",
      "Feature: 20, Score: -1.08137\n"
     ]
    },
    {
     "data": {
      "image/png": "[encoded data removed]",
      "text/plain": [
       "<Figure size 864x576 with 1 Axes>"
      ]
     },
     "metadata": {
      "needs_background": "light"
     },
     "output_type": "display_data"
    }
   ],
   "source": [
    "# Train Lin Reg on entire dataset to get feature importance\n",
    "X = pd.read_csv(X_path).values\n",
    "\n",
    "model = SGDClassifier()\n",
    "model.fit(X, Y)\n",
    "\n",
    "# get importance\n",
    "importance = model.coef_[0]\n",
    "# importance.shape\n",
    "# summarize feature importance\n",
    "for i,v in enumerate(importance):\n",
    "\tprint('Feature: %0d, Score: %.5f' % (i,v))\n",
    "# plot feature importance\n",
    "plt.bar([x for x in range(len(importance))], importance)\n",
    "plt.show()"
   ]
  },
  {
   "cell_type": "code",
   "execution_count": 24,
   "id": "9467c3bb",
   "metadata": {},
   "outputs": [
    {
     "data": {
      "image/png": "[encoded data removed]",
      "text/plain": [
       "<Figure size 864x576 with 1 Axes>"
      ]
     },
     "metadata": {
      "needs_background": "light"
     },
     "output_type": "display_data"
    }
   ],
   "source": [
    "# Train Random Forest on entire dataset to get feature importance\n",
    "X = pd.read_csv(X_path).values\n",
    "\n",
    "forest = RandomForestClassifier(random_state=42)\n",
    "forest.fit(X, Y)\n",
    "\n",
    "importances = forest.feature_importances_\n",
    "std = np.std([tree.feature_importances_ for tree in forest.estimators_], axis=0)\n",
    "\n",
    "feature_names = [str(i + 1) for i in range(X.shape[1])]\n",
    "forest_importances = pd.Series(importances, index=feature_names)\n",
    "\n",
    "fig, ax = plt.subplots()\n",
    "forest_importances.plot.bar(ax=ax)# yerr=std)\n",
    "ax.set_title(\"Feature importances using MDI\")\n",
    "ax.set_ylabel(\"Mean decrease in impurity\")\n",
    "fig.tight_layout()"
   ]
  },
  {
   "cell_type": "markdown",
   "id": "64a2a771",
   "metadata": {},
   "source": [
    "### Try 16 central features"
   ]
  },
  {
   "cell_type": "code",
   "execution_count": 26,
   "id": "3c7eec4f",
   "metadata": {},
   "outputs": [
    {
     "name": "stdout",
     "output_type": "stream",
     "text": [
      "Selected features from indexes:  [2, 18)\n",
      "Feature: 0, Score: 0.00000\n",
      "Feature: 1, Score: 0.00000\n",
      "Feature: 2, Score: 0.00178\n",
      "Feature: 3, Score: 0.00104\n",
      "Feature: 4, Score: 0.35057\n",
      "Feature: 5, Score: 0.05600\n",
      "Feature: 6, Score: 11.83497\n",
      "Feature: 7, Score: -0.84393\n",
      "Feature: 8, Score: 2.55434\n",
      "Feature: 9, Score: 5.18392\n",
      "Feature: 10, Score: -6.88654\n",
      "Feature: 11, Score: -0.83085\n",
      "Feature: 12, Score: -10.57008\n",
      "Feature: 13, Score: -0.53679\n",
      "Feature: 14, Score: -0.36995\n",
      "Feature: 15, Score: -0.01895\n"
     ]
    },
    {
     "data": {
      "image/png": "[encoded data removed]",
      "text/plain": [
       "<Figure size 864x576 with 1 Axes>"
      ]
     },
     "metadata": {
      "needs_background": "light"
     },
     "output_type": "display_data"
    }
   ],
   "source": [
    "# Train Log Reg on 16 features dataset to get feature importance\n",
    "X = pd.read_csv(X_path).values\n",
    "X = select_n_center_features(X, 16)\n",
    "\n",
    "model = LogisticRegression()\n",
    "model.fit(X, Y)\n",
    "\n",
    "# get importance\n",
    "importance = model.coef_[0]\n",
    "# summarize feature importance\n",
    "for i,v in enumerate(importance):\n",
    "\tprint('Feature: %0d, Score: %.5f' % (i,v))\n",
    "# plot feature importance\n",
    "plt.bar([x for x in range(len(importance))], importance)\n",
    "plt.show()"
   ]
  },
  {
   "cell_type": "code",
   "execution_count": 27,
   "id": "012ce3df",
   "metadata": {},
   "outputs": [
    {
     "name": "stdout",
     "output_type": "stream",
     "text": [
      "Selected features from indexes:  [2, 18)\n"
     ]
    },
    {
     "data": {
      "image/png": "[encoded data removed]",
      "text/plain": [
       "<Figure size 864x576 with 1 Axes>"
      ]
     },
     "metadata": {
      "needs_background": "light"
     },
     "output_type": "display_data"
    }
   ],
   "source": [
    "# Train Random Forest on 16 featrues dataset to get feature importance\n",
    "X = pd.read_csv(X_path).values\n",
    "X = select_n_center_features(X, 16)\n",
    "\n",
    "forest = RandomForestClassifier(random_state=42)\n",
    "forest.fit(X, Y)\n",
    "\n",
    "importances = forest.feature_importances_\n",
    "std = np.std([tree.feature_importances_ for tree in forest.estimators_], axis=0)\n",
    "\n",
    "feature_names = [str(i + 1) for i in range(X.shape[1])]\n",
    "forest_importances = pd.Series(importances, index=feature_names)\n",
    "\n",
    "fig, ax = plt.subplots()\n",
    "forest_importances.plot.bar(ax=ax)# yerr=std)\n",
    "ax.set_title(\"Feature importances using MDI\")\n",
    "ax.set_ylabel(\"Mean decrease in impurity\")\n",
    "fig.tight_layout()"
   ]
  },
  {
   "cell_type": "code",
   "execution_count": null,
   "id": "3c7f0cbf",
   "metadata": {},
   "outputs": [],
   "source": []
  }
 ],
 "metadata": {
  "kernelspec": {
   "display_name": "Python 3",
   "language": "python",
   "name": "python3"
  },
  "language_info": {
   "codemirror_mode": {
    "name": "ipython",
    "version": 3
   },
   "file_extension": ".py",
   "mimetype": "text/x-python",
   "name": "python",
   "nbconvert_exporter": "python",
   "pygments_lexer": "ipython3",
   "version": "3.8.10"
  }
 },
 "nbformat": 4,
 "nbformat_minor": 5
}
