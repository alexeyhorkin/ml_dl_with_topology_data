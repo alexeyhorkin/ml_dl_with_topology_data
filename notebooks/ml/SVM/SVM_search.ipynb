{
 "cells": [
  {
   "cell_type": "code",
   "execution_count": 1,
   "id": "cd495ad0",
   "metadata": {},
   "outputs": [
    {
     "name": "stdout",
     "output_type": "stream",
     "text": [
      "[ Using Seed :  42  ]\n"
     ]
    }
   ],
   "source": [
    "import os\n",
    "import random\n",
    "import numpy as np\n",
    "import pandas as pd\n",
    "import matplotlib.pyplot as plt\n",
    "\n",
    "from time import time\n",
    "\n",
    "from os.path import join as p_join\n",
    "\n",
    "import seaborn as sns\n",
    "\n",
    "from tqdm import tqdm\n",
    "\n",
    "\n",
    "##################################\n",
    "## GLOBAL SETTINGS ###############\n",
    "##################################\n",
    "plt.rcParams[\"figure.figsize\"] = (12,8)\n",
    "\n",
    "def seed_all(seed=42):\n",
    "\n",
    "    random.seed(seed)\n",
    "    np.random.seed(seed)\n",
    "    print(\"[ Using Seed : \", seed, \" ]\")\n",
    "\n",
    "####################################\n",
    "#####   SEED ALL EXPERIMENTS   #####\n",
    "####################################\n",
    "seed_all()"
   ]
  },
  {
   "cell_type": "code",
   "execution_count": 2,
   "id": "a006d271",
   "metadata": {},
   "outputs": [],
   "source": [
    "import sys\n",
    "sys.path.append(\"../../../\") # Adds higher directory to python modules path.\n",
    "from utils import utils"
   ]
  },
  {
   "cell_type": "markdown",
   "id": "df7665cd",
   "metadata": {},
   "source": [
    "### Define constants"
   ]
  },
  {
   "cell_type": "code",
   "execution_count": 3,
   "id": "f9bcc439",
   "metadata": {},
   "outputs": [],
   "source": [
    "from sklearn import svm\n",
    "\n",
    "#################################\n",
    "####### GLOBAL CONFIG ###########\n",
    "#################################\n",
    "CONFIG = {'scoring': ['accuracy', 'f1_macro'],\n",
    "          'cv': 5,\n",
    "          'n_jobs': -1}\n",
    "\n",
    "data_path = p_join('..', '..', '..', 'data_2')\n",
    "params = {'kernel': ['poly', 'rbf'], 'C': [10, 15, 20]}"
   ]
  },
  {
   "cell_type": "markdown",
   "id": "791948f4",
   "metadata": {},
   "source": [
    "### Run calculation"
   ]
  },
  {
   "cell_type": "code",
   "execution_count": 4,
   "id": "f491f219",
   "metadata": {},
   "outputs": [
    {
     "name": "stderr",
     "output_type": "stream",
     "text": [
      "100%|███████████████████████████████████████████| 16/16 [00:00<00:00, 21.38it/s]\n",
      "100%|███████████████████████████████████████████| 16/16 [00:00<00:00, 23.20it/s]\n",
      "100%|███████████████████████████████████████████| 16/16 [00:00<00:00, 23.41it/s]\n",
      "100%|███████████████████████████████████████████| 16/16 [00:00<00:00, 22.20it/s]\n",
      "100%|███████████████████████████████████████████| 16/16 [00:01<00:00, 15.08it/s]\n"
     ]
    }
   ],
   "source": [
    "all_results = {}\n",
    "\n",
    "for l in ['L=1.6', 'L=6.6', 'L=7.6', 'L=8.6', 'L=10.6']:\n",
    "    FOLDERS = [p_join(os.path.abspath(data_path), item) for item in os.listdir(data_path) if l in item]\n",
    "    X, Y = utils.create_dataset(FOLDERS)\n",
    "    X = utils.normalize_data(X)\n",
    "    svc_grid_search_res = utils.greed_searc_cv(svm.SVC(),\n",
    "                                               params,\n",
    "                                               CONFIG,\n",
    "                                               X, Y)\n",
    "    all_results[l] = svc_grid_search_res"
   ]
  },
  {
   "cell_type": "markdown",
   "id": "d5a7f673",
   "metadata": {},
   "source": [
    "### Create data frame"
   ]
  },
  {
   "cell_type": "code",
   "execution_count": 5,
   "id": "d208b142",
   "metadata": {},
   "outputs": [],
   "source": [
    "data = {}\n",
    "for method in all_results:\n",
    "    res = all_results[method]\n",
    "    bi = res['best_index']\n",
    "    val = []\n",
    "    for kk in res['cv_results']:\n",
    "        if 'mean_test' in kk:\n",
    "            val.append(res['cv_results'][kk][bi])\n",
    "    data[method] = val\n",
    "\n",
    "df = pd.DataFrame.from_dict(data, orient='index', columns=CONFIG['scoring'])"
   ]
  },
  {
   "cell_type": "code",
   "execution_count": 8,
   "id": "a65dddc0",
   "metadata": {},
   "outputs": [
    {
     "data": {
      "text/html": [
       "<div>\n",
       "<style scoped>\n",
       "    .dataframe tbody tr th:only-of-type {\n",
       "        vertical-align: middle;\n",
       "    }\n",
       "\n",
       "    .dataframe tbody tr th {\n",
       "        vertical-align: top;\n",
       "    }\n",
       "\n",
       "    .dataframe thead th {\n",
       "        text-align: right;\n",
       "    }\n",
       "</style>\n",
       "<table border=\"1\" class=\"dataframe\">\n",
       "  <thead>\n",
       "    <tr style=\"text-align: right;\">\n",
       "      <th></th>\n",
       "      <th>accuracy</th>\n",
       "      <th>f1_macro</th>\n",
       "    </tr>\n",
       "  </thead>\n",
       "  <tbody>\n",
       "    <tr>\n",
       "      <th>L=1.6</th>\n",
       "      <td>0.502266</td>\n",
       "      <td>0.500691</td>\n",
       "    </tr>\n",
       "    <tr>\n",
       "      <th>L=6.6</th>\n",
       "      <td>0.631971</td>\n",
       "      <td>0.631199</td>\n",
       "    </tr>\n",
       "    <tr>\n",
       "      <th>L=7.6</th>\n",
       "      <td>0.682827</td>\n",
       "      <td>0.682441</td>\n",
       "    </tr>\n",
       "    <tr>\n",
       "      <th>L=8.6</th>\n",
       "      <td>0.689157</td>\n",
       "      <td>0.689127</td>\n",
       "    </tr>\n",
       "    <tr>\n",
       "      <th>L=10.6</th>\n",
       "      <td>0.742295</td>\n",
       "      <td>0.742175</td>\n",
       "    </tr>\n",
       "  </tbody>\n",
       "</table>\n",
       "</div>"
      ],
      "text/plain": [
       "        accuracy  f1_macro\n",
       "L=1.6   0.502266  0.500691\n",
       "L=6.6   0.631971  0.631199\n",
       "L=7.6   0.682827  0.682441\n",
       "L=8.6   0.689157  0.689127\n",
       "L=10.6  0.742295  0.742175"
      ]
     },
     "execution_count": 8,
     "metadata": {},
     "output_type": "execute_result"
    }
   ],
   "source": [
    "df"
   ]
  },
  {
   "cell_type": "code",
   "execution_count": 7,
   "id": "e5c0af7b",
   "metadata": {},
   "outputs": [
    {
     "name": "stdout",
     "output_type": "stream",
     "text": [
      "L=1.6\n",
      "{\"best_['accuracy', 'f1_macro']_score\": 0.5022662709392145, 'best_params': {'C': 15, 'kernel': 'poly'}, 'cv_results': {'mean_fit_time': array([190.2484623 , 224.21719365, 208.2312418 , 233.41671228,\n",
      "       202.8981462 , 204.46221662]), 'std_fit_time': array([0.90210425, 8.04169566, 2.55658618, 2.08443955, 9.05213894,\n",
      "       7.21570509]), 'mean_score_time': array([43.32176185, 80.95565662, 41.66839585, 80.59318171, 39.37025561,\n",
      "       52.77826791]), 'std_score_time': array([0.54831327, 2.09142776, 1.59481126, 4.65168299, 6.89937224,\n",
      "       2.78123092]), 'param_C': masked_array(data=[10, 10, 15, 15, 20, 20],\n",
      "             mask=[False, False, False, False, False, False],\n",
      "       fill_value='?',\n",
      "            dtype=object), 'param_kernel': masked_array(data=['poly', 'rbf', 'poly', 'rbf', 'poly', 'rbf'],\n",
      "             mask=[False, False, False, False, False, False],\n",
      "       fill_value='?',\n",
      "            dtype=object), 'params': [{'C': 10, 'kernel': 'poly'}, {'C': 10, 'kernel': 'rbf'}, {'C': 15, 'kernel': 'poly'}, {'C': 15, 'kernel': 'rbf'}, {'C': 20, 'kernel': 'poly'}, {'C': 20, 'kernel': 'rbf'}], 'split0_test_accuracy': array([0.50699383, 0.50363366, 0.50472767, 0.50105493, 0.50378995,\n",
      "       0.50019536]), 'split1_test_accuracy': array([0.49550676, 0.4991795 , 0.49660077, 0.49902321, 0.49839806,\n",
      "       0.49722591]), 'split2_test_accuracy': array([0.49777292, 0.5008205 , 0.50097679, 0.50175822, 0.49894507,\n",
      "       0.50035164]), 'split3_test_accuracy': array([0.50097679, 0.50175822, 0.50168008, 0.50152379, 0.50144565,\n",
      "       0.5026178 ]), 'split4_test_accuracy': array([0.50781494, 0.50492341, 0.50734605, 0.50570491, 0.50578306,\n",
      "       0.50429822]), 'mean_test_accuracy': array([0.50181305, 0.50206306, 0.50226627, 0.50181301, 0.50167236,\n",
      "       0.50093779]), 'std_test_accuracy': array([0.00489192, 0.00202979, 0.00363227, 0.00217215, 0.00281399,\n",
      "       0.00239949]), 'rank_test_accuracy': array([3, 2, 1, 4, 5, 6], dtype=int32), 'split0_test_f1_macro': array([0.50513211, 0.49968835, 0.50290769, 0.49684175, 0.50225623,\n",
      "       0.49582226]), 'split1_test_f1_macro': array([0.49264845, 0.49664325, 0.49456704, 0.4968661 , 0.49665686,\n",
      "       0.49552819]), 'split2_test_f1_macro': array([0.49489997, 0.49468622, 0.49926107, 0.49847553, 0.49742166,\n",
      "       0.49776445]), 'split3_test_f1_macro': array([0.50024495, 0.50132638, 0.50043369, 0.5007657 , 0.49978594,\n",
      "       0.50135941]), 'split4_test_f1_macro': array([0.50730119, 0.50287939, 0.50628673, 0.50314186, 0.50416548,\n",
      "       0.50130461]), 'mean_test_f1_macro': array([0.50004534, 0.49904472, 0.50069124, 0.49921819, 0.50005724,\n",
      "       0.49835578]), 'std_test_f1_macro': array([0.00565246, 0.00300295, 0.0038946 , 0.00242987, 0.00283886,\n",
      "       0.00254877]), 'rank_test_f1_macro': array([3, 5, 1, 4, 2, 6], dtype=int32)}, 'best_index': 2}\n",
      "********************\n",
      "L=6.6\n",
      "{\"best_['accuracy', 'f1_macro']_score\": 0.6319705723854911, 'best_params': {'C': 20, 'kernel': 'rbf'}, 'cv_results': {'mean_fit_time': array([408.05294094, 439.5289247 , 421.98777208, 450.38916693,\n",
      "       424.19368181, 376.32019935]), 'std_fit_time': array([ 6.17135218,  6.90973041,  2.9124077 ,  4.14498301, 27.65785984,\n",
      "        3.21881932]), 'mean_score_time': array([36.76528034, 70.35888991, 36.12405148, 69.63942356, 34.26722713,\n",
      "       60.68520026]), 'std_score_time': array([1.41050977, 1.37352888, 0.77208437, 3.25124277, 3.863863  ,\n",
      "       0.98329103]), 'param_C': masked_array(data=[10, 10, 15, 15, 20, 20],\n",
      "             mask=[False, False, False, False, False, False],\n",
      "       fill_value='?',\n",
      "            dtype=object), 'param_kernel': masked_array(data=['poly', 'rbf', 'poly', 'rbf', 'poly', 'rbf'],\n",
      "             mask=[False, False, False, False, False, False],\n",
      "       fill_value='?',\n",
      "            dtype=object), 'params': [{'C': 10, 'kernel': 'poly'}, {'C': 10, 'kernel': 'rbf'}, {'C': 15, 'kernel': 'poly'}, {'C': 15, 'kernel': 'rbf'}, {'C': 20, 'kernel': 'poly'}, {'C': 20, 'kernel': 'rbf'}], 'split0_test_accuracy': array([0.60107838, 0.61115887, 0.61444088, 0.62163007, 0.62389623,\n",
      "       0.62897554]), 'split1_test_accuracy': array([0.59177932, 0.60803313, 0.60576698, 0.6200672 , 0.61490974,\n",
      "       0.62803782]), 'split2_test_accuracy': array([0.61061186, 0.61905134, 0.62022349, 0.63108541, 0.62741267,\n",
      "       0.63796202]), 'split3_test_accuracy': array([0.60068766, 0.60764242, 0.61272173, 0.61998906, 0.61944206,\n",
      "       0.62780339]), 'split4_test_accuracy': array([0.60636136, 0.62230384, 0.61800563, 0.63066583, 0.62511722,\n",
      "       0.63707409]), 'mean_test_accuracy': array([0.60210372, 0.61363792, 0.61423174, 0.62468752, 0.62215559,\n",
      "       0.63197057]), 'std_test_accuracy': array([0.00632718, 0.00596504, 0.00498236, 0.00508811, 0.00445654,\n",
      "       0.00455512]), 'rank_test_accuracy': array([6, 5, 4, 2, 3, 1], dtype=int32), 'split0_test_f1_macro': array([0.60005069, 0.60991678, 0.61326747, 0.62023832, 0.62276336,\n",
      "       0.62764197]), 'split1_test_f1_macro': array([0.59101045, 0.60735149, 0.60488266, 0.61918986, 0.61400596,\n",
      "       0.62722342]), 'split2_test_f1_macro': array([0.60975047, 0.61818412, 0.61927268, 0.6303494 , 0.62657414,\n",
      "       0.63729779]), 'split3_test_f1_macro': array([0.60025298, 0.60758947, 0.61226774, 0.61977696, 0.6189792 ,\n",
      "       0.62761882]), 'split4_test_f1_macro': array([0.60550021, 0.62164125, 0.61708409, 0.62995019, 0.62425437,\n",
      "       0.63621083]), 'mean_test_f1_macro': array([0.60131296, 0.61293662, 0.61335493, 0.62390095, 0.62131541,\n",
      "       0.63119857]), 'std_test_f1_macro': array([0.00628623, 0.00586876, 0.00493752, 0.00511453, 0.00441076,\n",
      "       0.00455168]), 'rank_test_f1_macro': array([6, 5, 4, 2, 3, 1], dtype=int32)}, 'best_index': 5}\n",
      "********************\n",
      "L=7.6\n",
      "{\"best_['accuracy', 'f1_macro']_score\": 0.6828268963378241, 'best_params': {'C': 20, 'kernel': 'rbf'}, 'cv_results': {'mean_fit_time': array([329.03351107, 354.68375611, 304.45658841, 317.9777719 ,\n",
      "       284.34857121, 270.71195178]), 'std_fit_time': array([ 1.72604868, 10.25774053,  2.77879612,  5.25960706, 21.17367276,\n",
      "        3.76652565]), 'mean_score_time': array([38.63766317, 66.86862526, 32.94659081, 62.39294672, 29.83233519,\n",
      "       41.90984292]), 'std_score_time': array([1.64223444, 4.38176657, 2.13337774, 2.18516463, 4.48851068,\n",
      "       2.70173006]), 'param_C': masked_array(data=[10, 10, 15, 15, 20, 20],\n",
      "             mask=[False, False, False, False, False, False],\n",
      "       fill_value='?',\n",
      "            dtype=object), 'param_kernel': masked_array(data=['poly', 'rbf', 'poly', 'rbf', 'poly', 'rbf'],\n",
      "             mask=[False, False, False, False, False, False],\n",
      "       fill_value='?',\n",
      "            dtype=object), 'params': [{'C': 10, 'kernel': 'poly'}, {'C': 10, 'kernel': 'rbf'}, {'C': 15, 'kernel': 'poly'}, {'C': 15, 'kernel': 'rbf'}, {'C': 20, 'kernel': 'poly'}, {'C': 20, 'kernel': 'rbf'}], 'split0_test_accuracy': array([0.66296788, 0.6680472 , 0.67023521, 0.67734625, 0.67633039,\n",
      "       0.68117528]), 'split1_test_accuracy': array([0.66992264, 0.66961006, 0.67734625, 0.67898726, 0.68000313,\n",
      "       0.68422286]), 'split2_test_accuracy': array([0.66242088, 0.66953192, 0.67062593, 0.67812769, 0.67320466,\n",
      "       0.68578573]), 'split3_test_accuracy': array([0.6639056 , 0.66820349, 0.67031335, 0.67750254, 0.67476752,\n",
      "       0.68398843]), 'split4_test_accuracy': array([0.66005002, 0.66489528, 0.66802126, 0.67333542, 0.67091279,\n",
      "       0.67896218]), 'mean_test_accuracy': array([0.6638534 , 0.66805759, 0.6713084 , 0.67705983, 0.6750437 ,\n",
      "       0.6828269 ]), 'std_test_accuracy': array([0.0032906 , 0.00170912, 0.00315812, 0.00194959, 0.00305857,\n",
      "       0.00243789]), 'rank_test_accuracy': array([6, 5, 4, 2, 3, 1], dtype=int32), 'split0_test_f1_macro': array([0.66228378, 0.66761017, 0.66954364, 0.67685558, 0.67556902,\n",
      "       0.68064812]), 'split1_test_f1_macro': array([0.66940292, 0.66941407, 0.6769252 , 0.67873456, 0.67957103,\n",
      "       0.68393461]), 'split2_test_f1_macro': array([0.66197715, 0.66932145, 0.67020453, 0.67788845, 0.67278406,\n",
      "       0.68551267]), 'split3_test_f1_macro': array([0.66322117, 0.66785155, 0.66963866, 0.6770321 , 0.67409981,\n",
      "       0.68350784]), 'split4_test_f1_macro': array([0.65942474, 0.66451971, 0.66747573, 0.67295376, 0.67036034,\n",
      "       0.67860063]), 'mean_test_f1_macro': array([0.66326195, 0.66774339, 0.67075755, 0.67669289, 0.67447685,\n",
      "       0.68244077]), 'std_test_f1_macro': array([0.00331798, 0.00177217, 0.00321999, 0.00198597, 0.0030691 ,\n",
      "       0.00248061]), 'rank_test_f1_macro': array([6, 5, 4, 2, 3, 1], dtype=int32)}, 'best_index': 5}\n",
      "********************\n",
      "L=8.6\n",
      "{\"best_['accuracy', 'f1_macro']_score\": 0.6891566538470755, 'best_params': {'C': 20, 'kernel': 'rbf'}, 'cv_results': {'mean_fit_time': array([398.31320357, 386.94485817, 419.85272579, 376.10980973,\n",
      "       419.54845386, 319.1793437 ]), 'std_fit_time': array([ 4.94235906,  4.41637718,  6.33472298,  3.68929787, 23.53933943,\n",
      "        4.00579353]), 'mean_score_time': array([36.64558115, 67.5770144 , 34.20460443, 65.78442464, 30.71408248,\n",
      "       45.26071663]), 'std_score_time': array([0.36519078, 1.12664299, 1.24537698, 1.0374154 , 6.20975761,\n",
      "       5.3338104 ]), 'param_C': masked_array(data=[10, 10, 15, 15, 20, 20],\n",
      "             mask=[False, False, False, False, False, False],\n",
      "       fill_value='?',\n",
      "            dtype=object), 'param_kernel': masked_array(data=['poly', 'rbf', 'poly', 'rbf', 'poly', 'rbf'],\n",
      "             mask=[False, False, False, False, False, False],\n",
      "       fill_value='?',\n",
      "            dtype=object), 'params': [{'C': 10, 'kernel': 'poly'}, {'C': 10, 'kernel': 'rbf'}, {'C': 15, 'kernel': 'poly'}, {'C': 15, 'kernel': 'rbf'}, {'C': 20, 'kernel': 'poly'}, {'C': 20, 'kernel': 'rbf'}], 'split0_test_accuracy': array([0.64671407, 0.67023521, 0.65702899, 0.683207  , 0.66539033,\n",
      "       0.68875518]), 'split1_test_accuracy': array([0.64749551, 0.67422052, 0.65749785, 0.68383215, 0.66328046,\n",
      "       0.69109948]), 'split2_test_accuracy': array([0.64937095, 0.67414238, 0.65820114, 0.683754  , 0.66687505,\n",
      "       0.68852075]), 'split3_test_accuracy': array([0.64827694, 0.66953192, 0.65663827, 0.68015941, 0.6628116 ,\n",
      "       0.68891146]), 'split4_test_accuracy': array([0.64840575, 0.67169428, 0.65801813, 0.68365114, 0.66301969,\n",
      "       0.68849641]), 'mean_test_accuracy': array([0.64805264, 0.67196486, 0.65747688, 0.68292074, 0.66427542,\n",
      "       0.68915665]), 'std_test_accuracy': array([0.00089611, 0.00193978, 0.00058682, 0.00139752, 0.00159441,\n",
      "       0.00098348]), 'rank_test_accuracy': array([6, 3, 5, 2, 4, 1], dtype=int32), 'split0_test_f1_macro': array([0.64670145, 0.67030401, 0.65709231, 0.68319417, 0.6653124 ,\n",
      "       0.68872072]), 'split1_test_f1_macro': array([0.64752317, 0.67421243, 0.65747589, 0.68381677, 0.66334613,\n",
      "       0.69106162]), 'split2_test_f1_macro': array([0.6493997 , 0.67425437, 0.65823114, 0.68379989, 0.66685968,\n",
      "       0.68854028]), 'split3_test_f1_macro': array([0.64843535, 0.66969453, 0.65684241, 0.68022023, 0.66302941,\n",
      "       0.68899463]), 'split4_test_f1_macro': array([0.64804238, 0.67149123, 0.65761851, 0.68348729, 0.66259218,\n",
      "       0.68831535]), 'mean_test_f1_macro': array([0.64802041, 0.67199131, 0.65745205, 0.68290367, 0.66422796,\n",
      "       0.68912652]), 'std_test_f1_macro': array([0.00090133, 0.00191974, 0.00047673, 0.00136109, 0.00161195,\n",
      "       0.00099281]), 'rank_test_f1_macro': array([6, 3, 5, 2, 4, 1], dtype=int32)}, 'best_index': 5}\n",
      "********************\n",
      "L=10.6\n",
      "{\"best_['accuracy', 'f1_macro']_score\": 0.7422948847298168, 'best_params': {'C': 20, 'kernel': 'rbf'}, 'cv_results': {'mean_fit_time': array([439.05364108, 423.82870774, 414.92686019, 407.75056658,\n",
      "       419.61602635, 352.43497262]), 'std_fit_time': array([ 0.61180837, 18.65331592,  2.42471443,  6.0492424 , 20.74323998,\n",
      "        3.84567319]), 'mean_score_time': array([35.72142987, 72.59454632, 40.82273297, 68.75103426, 32.09623699,\n",
      "       44.62115889]), 'std_score_time': array([0.30210927, 5.92296128, 2.03266516, 2.84182625, 4.10056758,\n",
      "       2.8724798 ]), 'param_C': masked_array(data=[10, 10, 15, 15, 20, 20],\n",
      "             mask=[False, False, False, False, False, False],\n",
      "       fill_value='?',\n",
      "            dtype=object), 'param_kernel': masked_array(data=['poly', 'rbf', 'poly', 'rbf', 'poly', 'rbf'],\n",
      "             mask=[False, False, False, False, False, False],\n",
      "       fill_value='?',\n",
      "            dtype=object), 'params': [{'C': 10, 'kernel': 'poly'}, {'C': 10, 'kernel': 'rbf'}, {'C': 15, 'kernel': 'poly'}, {'C': 15, 'kernel': 'rbf'}, {'C': 20, 'kernel': 'poly'}, {'C': 20, 'kernel': 'rbf'}], 'split0_test_accuracy': array([0.68023756, 0.72149723, 0.69289677, 0.73392201, 0.69641322,\n",
      "       0.74486208]), 'split1_test_accuracy': array([0.68344143, 0.72602954, 0.69469407, 0.74032976, 0.69922638,\n",
      "       0.74853481]), 'split2_test_accuracy': array([0.67828397, 0.71086974, 0.68875518, 0.72602954, 0.69485036,\n",
      "       0.73634446]), 'split3_test_accuracy': array([0.68594202, 0.72212237, 0.69305306, 0.73392201, 0.69969524,\n",
      "       0.74353364]), 'split4_test_accuracy': array([0.68060331, 0.71452016, 0.68669897, 0.73015005, 0.69170053,\n",
      "       0.73819944]), 'mean_test_accuracy': array([0.68170166, 0.71900781, 0.69121961, 0.73287068, 0.69637715,\n",
      "       0.74229488]), 'std_test_accuracy': array([0.0026847 , 0.00550581, 0.00299185, 0.00473395, 0.00294384,\n",
      "       0.00445515]), 'rank_test_accuracy': array([6, 3, 5, 2, 4, 1], dtype=int32), 'split0_test_f1_macro': array([0.67937114, 0.7212453 , 0.69213219, 0.73369833, 0.69573962,\n",
      "       0.74462996]), 'split1_test_f1_macro': array([0.6828734 , 0.72596655, 0.69430006, 0.74022101, 0.69882907,\n",
      "       0.74842985]), 'split2_test_f1_macro': array([0.67737295, 0.71068522, 0.68785289, 0.72582846, 0.69395819,\n",
      "       0.73613839]), 'split3_test_f1_macro': array([0.68567201, 0.72215268, 0.69288776, 0.73391117, 0.69951619,\n",
      "       0.74353469]), 'split4_test_f1_macro': array([0.68010268, 0.71443472, 0.68638982, 0.73008841, 0.69139098,\n",
      "       0.73814119]), 'mean_test_f1_macro': array([0.68107844, 0.71889689, 0.69071254, 0.73274948, 0.69588681,\n",
      "       0.74217482]), 'std_test_f1_macro': array([0.00289553, 0.00553963, 0.00304896, 0.00475511, 0.00302599,\n",
      "       0.00446567]), 'rank_test_f1_macro': array([6, 3, 5, 2, 4, 1], dtype=int32)}, 'best_index': 5}\n",
      "********************\n"
     ]
    }
   ],
   "source": [
    "for k in all_results:\n",
    "    print(k)\n",
    "    print(all_results[k])\n",
    "    print('*'*20)"
   ]
  },
  {
   "cell_type": "code",
   "execution_count": 9,
   "id": "4ef6eb97",
   "metadata": {},
   "outputs": [
    {
     "name": "stderr",
     "output_type": "stream",
     "text": [
      "100%|███████████████████████████████████████████| 16/16 [00:00<00:00, 22.51it/s]\n",
      "100%|███████████████████████████████████████████| 16/16 [00:00<00:00, 24.33it/s]\n",
      "100%|███████████████████████████████████████████| 16/16 [00:00<00:00, 23.36it/s]\n",
      "100%|███████████████████████████████████████████| 16/16 [00:00<00:00, 24.55it/s]\n",
      "100%|███████████████████████████████████████████| 16/16 [00:01<00:00, 15.63it/s]\n"
     ]
    }
   ],
   "source": [
    "params = {'kernel': ['rbf'], 'C': [20, 25, 30]}\n",
    "\n",
    "all_results = {}\n",
    "\n",
    "for l in ['L=1.6', 'L=6.6', 'L=7.6', 'L=8.6', 'L=10.6']:\n",
    "    FOLDERS = [p_join(os.path.abspath(data_path), item) for item in os.listdir(data_path) if l in item]\n",
    "    X, Y = utils.create_dataset(FOLDERS)\n",
    "    X = utils.normalize_data(X)\n",
    "    svc_grid_search_res = utils.greed_searc_cv(svm.SVC(),\n",
    "                                               params,\n",
    "                                               CONFIG,\n",
    "                                               X, Y)\n",
    "    all_results[l] = svc_grid_search_res"
   ]
  },
  {
   "cell_type": "code",
   "execution_count": 10,
   "id": "81dbdd4d",
   "metadata": {},
   "outputs": [],
   "source": [
    "data = {}\n",
    "for method in all_results:\n",
    "    res = all_results[method]\n",
    "    bi = res['best_index']\n",
    "    val = []\n",
    "    for kk in res['cv_results']:\n",
    "        if 'mean_test' in kk:\n",
    "            val.append(res['cv_results'][kk][bi])\n",
    "    data[method] = val\n",
    "\n",
    "df = pd.DataFrame.from_dict(data, orient='index', columns=CONFIG['scoring'])"
   ]
  },
  {
   "cell_type": "code",
   "execution_count": 11,
   "id": "36af4902",
   "metadata": {},
   "outputs": [
    {
     "data": {
      "text/html": [
       "<div>\n",
       "<style scoped>\n",
       "    .dataframe tbody tr th:only-of-type {\n",
       "        vertical-align: middle;\n",
       "    }\n",
       "\n",
       "    .dataframe tbody tr th {\n",
       "        vertical-align: top;\n",
       "    }\n",
       "\n",
       "    .dataframe thead th {\n",
       "        text-align: right;\n",
       "    }\n",
       "</style>\n",
       "<table border=\"1\" class=\"dataframe\">\n",
       "  <thead>\n",
       "    <tr style=\"text-align: right;\">\n",
       "      <th></th>\n",
       "      <th>accuracy</th>\n",
       "      <th>f1_macro</th>\n",
       "    </tr>\n",
       "  </thead>\n",
       "  <tbody>\n",
       "    <tr>\n",
       "      <th>L=1.6</th>\n",
       "      <td>0.503876</td>\n",
       "      <td>0.502057</td>\n",
       "    </tr>\n",
       "    <tr>\n",
       "      <th>L=6.6</th>\n",
       "      <td>0.642926</td>\n",
       "      <td>0.642131</td>\n",
       "    </tr>\n",
       "    <tr>\n",
       "      <th>L=7.6</th>\n",
       "      <td>0.688828</td>\n",
       "      <td>0.688395</td>\n",
       "    </tr>\n",
       "    <tr>\n",
       "      <th>L=8.6</th>\n",
       "      <td>0.697471</td>\n",
       "      <td>0.697412</td>\n",
       "    </tr>\n",
       "    <tr>\n",
       "      <th>L=10.6</th>\n",
       "      <td>0.753563</td>\n",
       "      <td>0.753481</td>\n",
       "    </tr>\n",
       "  </tbody>\n",
       "</table>\n",
       "</div>"
      ],
      "text/plain": [
       "        accuracy  f1_macro\n",
       "L=1.6   0.503876  0.502057\n",
       "L=6.6   0.642926  0.642131\n",
       "L=7.6   0.688828  0.688395\n",
       "L=8.6   0.697471  0.697412\n",
       "L=10.6  0.753563  0.753481"
      ]
     },
     "execution_count": 11,
     "metadata": {},
     "output_type": "execute_result"
    }
   ],
   "source": [
    "df"
   ]
  },
  {
   "cell_type": "code",
   "execution_count": 12,
   "id": "29018bd1",
   "metadata": {},
   "outputs": [
    {
     "name": "stdout",
     "output_type": "stream",
     "text": [
      "L=1.6\n",
      "{\"best_['accuracy', 'f1_macro']_score\": 0.5038759780341804, 'best_params': {'C': 25, 'kernel': 'rbf'}, 'cv_results': {'mean_fit_time': array([213.49332204, 212.15392337, 212.69138579]), 'std_fit_time': array([1.4642568 , 1.27603207, 4.12238613]), 'mean_score_time': array([89.78622203, 83.59219508, 75.14188204]), 'std_score_time': array([3.2273584 , 5.77484982, 1.53804119]), 'param_C': masked_array(data=[20, 25, 30],\n",
      "             mask=[False, False, False],\n",
      "       fill_value='?',\n",
      "            dtype=object), 'param_kernel': masked_array(data=['rbf', 'rbf', 'rbf'],\n",
      "             mask=[False, False, False],\n",
      "       fill_value='?',\n",
      "            dtype=object), 'params': [{'C': 20, 'kernel': 'rbf'}, {'C': 25, 'kernel': 'rbf'}, {'C': 30, 'kernel': 'rbf'}], 'split0_test_accuracy': array([0.50488396, 0.50472767, 0.50394624]), 'split1_test_accuracy': array([0.50629054, 0.50691568, 0.50722826]), 'split2_test_accuracy': array([0.50347738, 0.50386809, 0.50488396]), 'split3_test_accuracy': array([0.49824178, 0.49941393, 0.49957021]), 'split4_test_accuracy': array([0.50500156, 0.50445452, 0.50375117]), 'mean_test_accuracy': array([0.50357904, 0.50387598, 0.50387597]), 'std_test_accuracy': array([0.00281337, 0.00245804, 0.0024825 ]), 'rank_test_accuracy': array([3, 1, 2], dtype=int32), 'split0_test_f1_macro': array([0.50371456, 0.5035147 , 0.50257728]), 'split1_test_f1_macro': array([0.50273263, 0.5040405 , 0.50464772]), 'split2_test_f1_macro': array([0.50238791, 0.50282813, 0.5039066 ]), 'split3_test_f1_macro': array([0.49712241, 0.49822953, 0.4984268 ]), 'split4_test_f1_macro': array([0.50199117, 0.50167324, 0.5009337 ]), 'mean_test_f1_macro': array([0.50158974, 0.50205722, 0.50209842]), 'std_test_f1_macro': array([0.00230549, 0.00207126, 0.00222868]), 'rank_test_f1_macro': array([3, 2, 1], dtype=int32)}, 'best_index': 1}\n",
      "********************\n",
      "L=6.6\n",
      "{\"best_['accuracy', 'f1_macro']_score\": 0.6429264190187197, 'best_params': {'C': 30, 'kernel': 'rbf'}, 'cv_results': {'mean_fit_time': array([446.69112492, 433.17890329, 414.0318687 ]), 'std_fit_time': array([ 4.59515641, 10.80525503,  5.41151345]), 'mean_score_time': array([80.49994164, 76.86818256, 72.58674684]), 'std_score_time': array([1.17423505, 3.58060114, 1.81813896]), 'param_C': masked_array(data=[20, 25, 30],\n",
      "             mask=[False, False, False],\n",
      "       fill_value='?',\n",
      "            dtype=object), 'param_kernel': masked_array(data=['rbf', 'rbf', 'rbf'],\n",
      "             mask=[False, False, False],\n",
      "       fill_value='?',\n",
      "            dtype=object), 'params': [{'C': 20, 'kernel': 'rbf'}, {'C': 25, 'kernel': 'rbf'}, {'C': 30, 'kernel': 'rbf'}], 'split0_test_accuracy': array([0.62717824, 0.63342971, 0.63944675]), 'split1_test_accuracy': array([0.63897789, 0.64343205, 0.6481988 ]), 'split2_test_accuracy': array([0.62960069, 0.6364773 , 0.64163476]), 'split3_test_accuracy': array([0.62780339, 0.63382043, 0.63843088]), 'split4_test_accuracy': array([0.63769928, 0.6423101 , 0.64692091]), 'mean_test_accuracy': array([0.6322519 , 0.63789392, 0.64292642]), 'std_test_accuracy': array([0.00504922, 0.00421196, 0.0039431 ]), 'rank_test_accuracy': array([3, 2, 1], dtype=int32), 'split0_test_f1_macro': array([0.62659937, 0.632772  , 0.63876832]), 'split1_test_f1_macro': array([0.63827714, 0.64267234, 0.6474734 ]), 'split2_test_f1_macro': array([0.62830157, 0.63536506, 0.6405564 ]), 'split3_test_f1_macro': array([0.626995  , 0.63288487, 0.63746831]), 'split4_test_f1_macro': array([0.63726206, 0.64186443, 0.64638651]), 'mean_test_f1_macro': array([0.63148703, 0.63711174, 0.64213059]), 'std_test_f1_macro': array([0.00517052, 0.00431877, 0.00405409]), 'rank_test_f1_macro': array([3, 2, 1], dtype=int32)}, 'best_index': 2}\n",
      "********************\n",
      "L=7.6\n",
      "{\"best_['accuracy', 'f1_macro']_score\": 0.6888284384896692, 'best_params': {'C': 30, 'kernel': 'rbf'}, 'cv_results': {'mean_fit_time': array([315.33007679, 302.56484432, 291.33068843]), 'std_fit_time': array([ 1.59940146, 14.08789322,  3.30311589]), 'mean_score_time': array([68.86126013, 64.1629281 , 56.86708975]), 'std_score_time': array([0.33331609, 5.20562574, 0.56295794]), 'param_C': masked_array(data=[20, 25, 30],\n",
      "             mask=[False, False, False],\n",
      "       fill_value='?',\n",
      "            dtype=object), 'param_kernel': masked_array(data=['rbf', 'rbf', 'rbf'],\n",
      "             mask=[False, False, False],\n",
      "       fill_value='?',\n",
      "            dtype=object), 'params': [{'C': 20, 'kernel': 'rbf'}, {'C': 25, 'kernel': 'rbf'}, {'C': 30, 'kernel': 'rbf'}], 'split0_test_accuracy': array([0.6808627 , 0.68492615, 0.68664531]), 'split1_test_accuracy': array([0.68711417, 0.6896929 , 0.69305306]), 'split2_test_accuracy': array([0.68430101, 0.68672345, 0.68914589]), 'split3_test_accuracy': array([0.68047199, 0.68469172, 0.68766117]), 'split4_test_accuracy': array([0.68044701, 0.68482338, 0.68763676]), 'mean_test_accuracy': array([0.68263938, 0.68617152, 0.68882844]), 'std_test_accuracy': array([0.00266253, 0.00191117, 0.00225818]), 'rank_test_accuracy': array([3, 2, 1], dtype=int32), 'split0_test_f1_macro': array([0.68019752, 0.68430195, 0.68597411]), 'split1_test_f1_macro': array([0.68685749, 0.68940444, 0.69274578]), 'split2_test_f1_macro': array([0.6837535 , 0.68616422, 0.68861557]), 'split3_test_f1_macro': array([0.68017749, 0.68436966, 0.68727185]), 'split4_test_f1_macro': array([0.68018108, 0.68456703, 0.68736825]), 'mean_test_f1_macro': array([0.68223342, 0.68576146, 0.68839511]), 'std_test_f1_macro': array([0.00269357, 0.00194563, 0.00233042]), 'rank_test_f1_macro': array([3, 2, 1], dtype=int32)}, 'best_index': 2}\n",
      "********************\n",
      "L=8.6\n",
      "{\"best_['accuracy', 'f1_macro']_score\": 0.6974712857516353, 'best_params': {'C': 30, 'kernel': 'rbf'}, 'cv_results': {'mean_fit_time': array([402.46263285, 402.92451229, 395.31030993]), 'std_fit_time': array([ 6.53145843, 17.1153968 ,  3.9379163 ]), 'mean_score_time': array([74.11649299, 68.03441906, 62.56973834]), 'std_score_time': array([0.80991905, 2.58836145, 1.28386994]), 'param_C': masked_array(data=[20, 25, 30],\n",
      "             mask=[False, False, False],\n",
      "       fill_value='?',\n",
      "            dtype=object), 'param_kernel': masked_array(data=['rbf', 'rbf', 'rbf'],\n",
      "             mask=[False, False, False],\n",
      "       fill_value='?',\n",
      "            dtype=object), 'params': [{'C': 20, 'kernel': 'rbf'}, {'C': 25, 'kernel': 'rbf'}, {'C': 30, 'kernel': 'rbf'}], 'split0_test_accuracy': array([0.68156599, 0.68664531, 0.68953661]), 'split1_test_accuracy': array([0.69133391, 0.69664765, 0.6996171 ]), 'split2_test_accuracy': array([0.6967258 , 0.7001641 , 0.70321169]), 'split3_test_accuracy': array([0.68687974, 0.69188091, 0.69477221]), 'split4_test_accuracy': array([0.69318537, 0.69709284, 0.70021882]), 'mean_test_accuracy': array([0.68993816, 0.69448616, 0.69747129]), 'std_test_accuracy': array([0.00525379, 0.00473228, 0.00480312]), 'rank_test_accuracy': array([3, 2, 1], dtype=int32), 'split0_test_f1_macro': array([0.68148243, 0.68653322, 0.68941507]), 'split1_test_f1_macro': array([0.69135247, 0.6966759 , 0.69962274]), 'split2_test_f1_macro': array([0.69683014, 0.70022357, 0.70328692]), 'split3_test_f1_macro': array([0.68687692, 0.69189795, 0.69467997]), 'split4_test_f1_macro': array([0.69302134, 0.69695683, 0.70005351]), 'mean_test_f1_macro': array([0.68991266, 0.69445749, 0.69741164]), 'std_test_f1_macro': array([0.0052891 , 0.00476993, 0.00485375]), 'rank_test_f1_macro': array([3, 2, 1], dtype=int32)}, 'best_index': 2}\n",
      "********************\n",
      "L=10.6\n",
      "{\"best_['accuracy', 'f1_macro']_score\": 0.753563349813129, 'best_params': {'C': 30, 'kernel': 'rbf'}, 'cv_results': {'mean_fit_time': array([505.78170524, 518.79190702, 538.50845652]), 'std_fit_time': array([7.68110153, 6.46950789, 6.98824831]), 'mean_score_time': array([84.88535337, 81.4582727 , 72.01937494]), 'std_score_time': array([2.72136689, 1.40222088, 3.78918983]), 'param_C': masked_array(data=[20, 25, 30],\n",
      "             mask=[False, False, False],\n",
      "       fill_value='?',\n",
      "            dtype=object), 'param_kernel': masked_array(data=['rbf', 'rbf', 'rbf'],\n",
      "             mask=[False, False, False],\n",
      "       fill_value='?',\n",
      "            dtype=object), 'params': [{'C': 20, 'kernel': 'rbf'}, {'C': 25, 'kernel': 'rbf'}, {'C': 30, 'kernel': 'rbf'}], 'split0_test_accuracy': array([0.73798547, 0.74556537, 0.75236384]), 'split1_test_accuracy': array([0.74673752, 0.75228569, 0.75720872]), 'split2_test_accuracy': array([0.74158006, 0.74619051, 0.75220755]), 'split3_test_accuracy': array([0.74353364, 0.74790967, 0.75509885]), 'split4_test_accuracy': array([0.73882463, 0.74413879, 0.75093779]), 'mean_test_accuracy': array([0.74173226, 0.74721801, 0.75356335]), 'std_test_accuracy': array([0.0031879 , 0.00280814, 0.00227231]), 'rank_test_accuracy': array([3, 2, 1], dtype=int32), 'split0_test_f1_macro': array([0.73785512, 0.74546278, 0.7522826 ]), 'split1_test_f1_macro': array([0.74674155, 0.75227614, 0.7571977 ]), 'split2_test_f1_macro': array([0.74138721, 0.74602765, 0.75206538]), 'split3_test_f1_macro': array([0.74346757, 0.74783225, 0.75501515]), 'split4_test_f1_macro': array([0.73871132, 0.74404346, 0.75084263]), 'mean_test_f1_macro': array([0.74163255, 0.74712846, 0.75348069]), 'std_test_f1_macro': array([0.00323518, 0.00284596, 0.00230515]), 'rank_test_f1_macro': array([3, 2, 1], dtype=int32)}, 'best_index': 2}\n",
      "********************\n"
     ]
    }
   ],
   "source": [
    "for k in all_results:\n",
    "    print(k)\n",
    "    print(all_results[k])\n",
    "    print('*'*20)"
   ]
  },
  {
   "cell_type": "code",
   "execution_count": 16,
   "id": "541b65fb",
   "metadata": {},
   "outputs": [
    {
     "name": "stderr",
     "output_type": "stream",
     "text": [
      "100%|███████████████████████████████████████████| 16/16 [00:00<00:00, 22.37it/s]\n",
      "100%|███████████████████████████████████████████| 16/16 [00:00<00:00, 24.56it/s]\n",
      "100%|███████████████████████████████████████████| 16/16 [00:00<00:00, 23.61it/s]\n",
      "100%|███████████████████████████████████████████| 16/16 [00:00<00:00, 22.22it/s]\n",
      "100%|███████████████████████████████████████████| 16/16 [00:00<00:00, 23.71it/s]\n"
     ]
    }
   ],
   "source": [
    "params = {'kernel': ['rbf'], 'C': [100, 200, 1000]}\n",
    "\n",
    "all_results = {}\n",
    "\n",
    "for l in ['L=1.6', 'L=6.6', 'L=7.6', 'L=8.6', 'L=10.6']:\n",
    "    FOLDERS = [p_join(os.path.abspath(data_path), item) for item in os.listdir(data_path) if l in item]\n",
    "    X, Y = utils.create_dataset(FOLDERS)\n",
    "    X = utils.normalize_data(X)\n",
    "    svc_grid_search_res = utils.greed_searc_cv(svm.SVC(),\n",
    "                                               params,\n",
    "                                               CONFIG,\n",
    "                                               X, Y)\n",
    "    all_results[l] = svc_grid_search_res"
   ]
  },
  {
   "cell_type": "code",
   "execution_count": 17,
   "id": "be1f9115",
   "metadata": {},
   "outputs": [],
   "source": [
    "data = {}\n",
    "for method in all_results:\n",
    "    res = all_results[method]\n",
    "    bi = res['best_index']\n",
    "    val = []\n",
    "    for kk in res['cv_results']:\n",
    "        if 'mean_test' in kk:\n",
    "            val.append(res['cv_results'][kk][bi])\n",
    "    data[method] = val\n",
    "\n",
    "df = pd.DataFrame.from_dict(data, orient='index', columns=CONFIG['scoring'])"
   ]
  },
  {
   "cell_type": "code",
   "execution_count": 18,
   "id": "49f0d0e0",
   "metadata": {},
   "outputs": [
    {
     "data": {
      "text/html": [
       "<div>\n",
       "<style scoped>\n",
       "    .dataframe tbody tr th:only-of-type {\n",
       "        vertical-align: middle;\n",
       "    }\n",
       "\n",
       "    .dataframe tbody tr th {\n",
       "        vertical-align: top;\n",
       "    }\n",
       "\n",
       "    .dataframe thead th {\n",
       "        text-align: right;\n",
       "    }\n",
       "</style>\n",
       "<table border=\"1\" class=\"dataframe\">\n",
       "  <thead>\n",
       "    <tr style=\"text-align: right;\">\n",
       "      <th></th>\n",
       "      <th>accuracy</th>\n",
       "      <th>f1_macro</th>\n",
       "    </tr>\n",
       "  </thead>\n",
       "  <tbody>\n",
       "    <tr>\n",
       "      <th>L=1.6</th>\n",
       "      <td>0.503798</td>\n",
       "      <td>0.502040</td>\n",
       "    </tr>\n",
       "    <tr>\n",
       "      <th>L=6.6</th>\n",
       "      <td>0.687281</td>\n",
       "      <td>0.686501</td>\n",
       "    </tr>\n",
       "    <tr>\n",
       "      <th>L=7.6</th>\n",
       "      <td>0.723040</td>\n",
       "      <td>0.722706</td>\n",
       "    </tr>\n",
       "    <tr>\n",
       "      <th>L=8.6</th>\n",
       "      <td>0.744936</td>\n",
       "      <td>0.744812</td>\n",
       "    </tr>\n",
       "    <tr>\n",
       "      <th>L=10.6</th>\n",
       "      <td>0.799059</td>\n",
       "      <td>0.799036</td>\n",
       "    </tr>\n",
       "  </tbody>\n",
       "</table>\n",
       "</div>"
      ],
      "text/plain": [
       "        accuracy  f1_macro\n",
       "L=1.6   0.503798  0.502040\n",
       "L=6.6   0.687281  0.686501\n",
       "L=7.6   0.723040  0.722706\n",
       "L=8.6   0.744936  0.744812\n",
       "L=10.6  0.799059  0.799036"
      ]
     },
     "execution_count": 18,
     "metadata": {},
     "output_type": "execute_result"
    }
   ],
   "source": [
    "df"
   ]
  },
  {
   "cell_type": "code",
   "execution_count": 19,
   "id": "45a5faec",
   "metadata": {},
   "outputs": [
    {
     "name": "stdout",
     "output_type": "stream",
     "text": [
      "L=1.6\n",
      "{\"best_['accuracy', 'f1_macro']_score\": 0.5037978518185346, 'best_params': {'C': 100, 'kernel': 'rbf'}, 'cv_results': {'mean_fit_time': array([225.41567855, 238.35041776, 330.27913733]), 'std_fit_time': array([1.51151756, 2.69845678, 5.33725688]), 'mean_score_time': array([93.73798723, 84.16971865, 55.05201864]), 'std_score_time': array([1.03496175, 9.45647381, 5.1117294 ]), 'param_C': masked_array(data=[100, 200, 1000],\n",
      "             mask=[False, False, False],\n",
      "       fill_value='?',\n",
      "            dtype=object), 'param_kernel': masked_array(data=['rbf', 'rbf', 'rbf'],\n",
      "             mask=[False, False, False],\n",
      "       fill_value='?',\n",
      "            dtype=object), 'params': [{'C': 100, 'kernel': 'rbf'}, {'C': 200, 'kernel': 'rbf'}, {'C': 1000, 'kernel': 'rbf'}], 'split0_test_accuracy': array([0.50808783, 0.50933813, 0.51097914]), 'split1_test_accuracy': array([0.50386809, 0.50199265, 0.50355552]), 'split2_test_accuracy': array([0.49691334, 0.49824178, 0.4973822 ]), 'split3_test_accuracy': array([0.50457138, 0.5008205 , 0.49847621]), 'split4_test_accuracy': array([0.50554861, 0.50492341, 0.50328228]), 'mean_test_accuracy': array([0.50379785, 0.50306329, 0.50273507]), 'std_test_accuracy': array([0.00372744, 0.0038015 , 0.00481099]), 'rank_test_accuracy': array([1, 2, 3], dtype=int32), 'split0_test_f1_macro': array([0.50604283, 0.50730002, 0.50931316]), 'split1_test_f1_macro': array([0.50150074, 0.50056133, 0.50316677]), 'split2_test_f1_macro': array([0.49533724, 0.49698206, 0.49615366]), 'split3_test_f1_macro': array([0.50338003, 0.5003417 , 0.49813706]), 'split4_test_f1_macro': array([0.50393958, 0.50414238, 0.50310185]), 'mean_test_f1_macro': array([0.50204008, 0.5018655 , 0.5019745 ]), 'std_test_f1_macro': array([0.00365088, 0.00353805, 0.00458599]), 'rank_test_f1_macro': array([1, 3, 2], dtype=int32)}, 'best_index': 0}\n",
      "********************\n",
      "L=6.6\n",
      "{\"best_['accuracy', 'f1_macro']_score\": 0.6872812704739943, 'best_params': {'C': 1000, 'kernel': 'rbf'}, 'cv_results': {'mean_fit_time': array([ 453.93129878,  552.06649318, 1041.22116966]), 'std_fit_time': array([ 3.58781984, 25.19901735, 48.10587184]), 'mean_score_time': array([63.77835174, 51.9909389 , 28.94995279]), 'std_score_time': array([1.07175755, 8.51285211, 5.29484404]), 'param_C': masked_array(data=[100, 200, 1000],\n",
      "             mask=[False, False, False],\n",
      "       fill_value='?',\n",
      "            dtype=object), 'param_kernel': masked_array(data=['rbf', 'rbf', 'rbf'],\n",
      "             mask=[False, False, False],\n",
      "       fill_value='?',\n",
      "            dtype=object), 'params': [{'C': 100, 'kernel': 'rbf'}, {'C': 200, 'kernel': 'rbf'}, {'C': 1000, 'kernel': 'rbf'}], 'split0_test_accuracy': array([0.67023521, 0.68023756, 0.68977104]), 'split1_test_accuracy': array([0.65929515, 0.67367352, 0.68805189]), 'split2_test_accuracy': array([0.65945143, 0.66867235, 0.68140971]), 'split3_test_accuracy': array([0.6615613 , 0.66961006, 0.68508244]), 'split4_test_accuracy': array([0.66395749, 0.6750547 , 0.69209128]), 'mean_test_accuracy': array([0.66290012, 0.67344964, 0.68728127]), 'std_test_accuracy': array([0.00403988, 0.00415372, 0.00372127]), 'rank_test_accuracy': array([3, 2, 1], dtype=int32), 'split0_test_f1_macro': array([0.66928014, 0.67932338, 0.68903132]), 'split1_test_f1_macro': array([0.6583446 , 0.67277589, 0.68729017]), 'split2_test_f1_macro': array([0.65814357, 0.66748823, 0.68034248]), 'split3_test_f1_macro': array([0.6608936 , 0.66893283, 0.68458701]), 'split4_test_f1_macro': array([0.663187  , 0.67417656, 0.69125587]), 'mean_test_f1_macro': array([0.66196978, 0.67253938, 0.68650137]), 'std_test_f1_macro': array([0.00409544, 0.00417804, 0.00377425]), 'rank_test_f1_macro': array([3, 2, 1], dtype=int32)}, 'best_index': 2}\n",
      "********************\n",
      "L=7.6\n",
      "{\"best_['accuracy', 'f1_macro']_score\": 0.7230401227937063, 'best_params': {'C': 1000, 'kernel': 'rbf'}, 'cv_results': {'mean_fit_time': array([ 369.64685841,  492.21430306, 1055.91885285]), 'std_fit_time': array([ 1.81636405, 13.46476721, 50.14445409]), 'mean_score_time': array([57.53289366, 51.28876653, 30.63780203]), 'std_score_time': array([1.10199509, 3.81184374, 6.582094  ]), 'param_C': masked_array(data=[100, 200, 1000],\n",
      "             mask=[False, False, False],\n",
      "       fill_value='?',\n",
      "            dtype=object), 'param_kernel': masked_array(data=['rbf', 'rbf', 'rbf'],\n",
      "             mask=[False, False, False],\n",
      "       fill_value='?',\n",
      "            dtype=object), 'params': [{'C': 100, 'kernel': 'rbf'}, {'C': 200, 'kernel': 'rbf'}, {'C': 1000, 'kernel': 'rbf'}], 'split0_test_accuracy': array([0.71040088, 0.71837149, 0.72173166]), 'split1_test_accuracy': array([0.70844729, 0.71704306, 0.72790498]), 'split2_test_accuracy': array([0.70328983, 0.71165117, 0.71907478]), 'split3_test_accuracy': array([0.70961944, 0.71610534, 0.72423224]), 'split4_test_accuracy': array([0.70545483, 0.71358237, 0.72225696]), 'mean_test_accuracy': array([0.70744245, 0.71535069, 0.72304012]), 'std_test_accuracy': array([0.00267193, 0.00242373, 0.00293725]), 'rank_test_accuracy': array([3, 2, 1], dtype=int32), 'split0_test_f1_macro': array([0.70998155, 0.71800538, 0.72144151]), 'split1_test_f1_macro': array([0.70783663, 0.71655501, 0.72748851]), 'split2_test_f1_macro': array([0.70277747, 0.71117165, 0.71874649]), 'split3_test_f1_macro': array([0.709234  , 0.71578779, 0.72399322]), 'split4_test_f1_macro': array([0.7049327 , 0.71306755, 0.72185846]), 'mean_test_f1_macro': array([0.70695247, 0.71491748, 0.72270564]), 'std_test_f1_macro': array([0.00270823, 0.00246688, 0.00291631]), 'rank_test_f1_macro': array([3, 2, 1], dtype=int32)}, 'best_index': 2}\n",
      "********************\n",
      "L=8.6\n",
      "{\"best_['accuracy', 'f1_macro']_score\": 0.7449362753359058, 'best_params': {'C': 1000, 'kernel': 'rbf'}, 'cv_results': {'mean_fit_time': array([ 517.58286843,  698.81348696, 1545.21565676]), 'std_fit_time': array([ 6.089918  , 22.35191975, 51.67508011]), 'mean_score_time': array([54.48189864, 44.40288515, 24.46870847]), 'std_score_time': array([2.02225729, 6.08418619, 5.6995364 ]), 'param_C': masked_array(data=[100, 200, 1000],\n",
      "             mask=[False, False, False],\n",
      "       fill_value='?',\n",
      "            dtype=object), 'param_kernel': masked_array(data=['rbf', 'rbf', 'rbf'],\n",
      "             mask=[False, False, False],\n",
      "       fill_value='?',\n",
      "            dtype=object), 'params': [{'C': 100, 'kernel': 'rbf'}, {'C': 200, 'kernel': 'rbf'}, {'C': 1000, 'kernel': 'rbf'}], 'split0_test_accuracy': array([0.71524576, 0.72516996, 0.74126748]), 'split1_test_accuracy': array([0.71555833, 0.72673283, 0.74040791]), 'split2_test_accuracy': array([0.71884035, 0.73087442, 0.74908182]), 'split3_test_accuracy': array([0.71884035, 0.72821755, 0.7463468 ]), 'split4_test_accuracy': array([0.7229603 , 0.7303845 , 0.74757737]), 'mean_test_accuracy': array([0.71828902, 0.72827585, 0.74493628]), 'std_test_accuracy': array([0.0027981 , 0.00215545, 0.00346747]), 'rank_test_accuracy': array([3, 2, 1], dtype=int32), 'split0_test_f1_macro': array([0.71476414, 0.72478525, 0.7410554 ]), 'split1_test_f1_macro': array([0.7154938 , 0.72666512, 0.74038957]), 'split2_test_f1_macro': array([0.71853907, 0.73053872, 0.7488764 ]), 'split3_test_f1_macro': array([0.71882286, 0.72818945, 0.74628346]), 'split4_test_f1_macro': array([0.72284543, 0.73025459, 0.74745398]), 'mean_test_f1_macro': array([0.71809306, 0.72808662, 0.74481176]), 'std_test_f1_macro': array([0.00286895, 0.00217454, 0.00344484]), 'rank_test_f1_macro': array([3, 2, 1], dtype=int32)}, 'best_index': 2}\n",
      "********************\n",
      "L=10.6\n",
      "{\"best_['accuracy', 'f1_macro']_score\": 0.7990591901533659, 'best_params': {'C': 1000, 'kernel': 'rbf'}, 'cv_results': {'mean_fit_time': array([ 549.98406949,  710.11034937, 1543.3365365 ]), 'std_fit_time': array([ 5.36825704, 47.3633534 , 43.0498978 ]), 'mean_score_time': array([48.82941904, 41.21429267, 20.36365476]), 'std_score_time': array([0.79735374, 2.21910093, 3.81409044]), 'param_C': masked_array(data=[100, 200, 1000],\n",
      "             mask=[False, False, False],\n",
      "       fill_value='?',\n",
      "            dtype=object), 'param_kernel': masked_array(data=['rbf', 'rbf', 'rbf'],\n",
      "             mask=[False, False, False],\n",
      "       fill_value='?',\n",
      "            dtype=object), 'params': [{'C': 100, 'kernel': 'rbf'}, {'C': 200, 'kernel': 'rbf'}, {'C': 1000, 'kernel': 'rbf'}], 'split0_test_accuracy': array([0.77510354, 0.78463702, 0.79737438]), 'split1_test_accuracy': array([0.77713527, 0.78440259, 0.79862468]), 'split2_test_accuracy': array([0.77674455, 0.78596546, 0.79917168]), 'split3_test_accuracy': array([0.77525983, 0.78643432, 0.79784324]), 'split4_test_accuracy': array([0.7770397 , 0.78860581, 0.80228196]), 'mean_test_accuracy': array([0.77625658, 0.78600904, 0.79905919]), 'std_test_accuracy': array([0.00088843, 0.00150924, 0.00172655]), 'rank_test_accuracy': array([3, 2, 1], dtype=int32), 'split0_test_f1_macro': array([0.77508775, 0.78462815, 0.79737111]), 'split1_test_f1_macro': array([0.77705777, 0.78433246, 0.79857211]), 'split2_test_f1_macro': array([0.77667343, 0.7859149 , 0.7991503 ]), 'split3_test_f1_macro': array([0.77516083, 0.78634778, 0.7978123 ]), 'split4_test_f1_macro': array([0.77699901, 0.78858703, 0.80227262]), 'mean_test_f1_macro': array([0.77619576, 0.78596206, 0.79903569]), 'std_test_f1_macro': array([0.0008849 , 0.00151502, 0.0017305 ]), 'rank_test_f1_macro': array([3, 2, 1], dtype=int32)}, 'best_index': 2}\n",
      "********************\n"
     ]
    }
   ],
   "source": [
    "for k in all_results:\n",
    "    print(k)\n",
    "    print(all_results[k])\n",
    "    print('*'*20)"
   ]
  },
  {
   "cell_type": "markdown",
   "id": "41860957",
   "metadata": {},
   "source": [
    "### Grid search on small dataset"
   ]
  },
  {
   "cell_type": "code",
   "execution_count": 26,
   "id": "dac01d0b",
   "metadata": {},
   "outputs": [],
   "source": [
    "import matplotlib\n",
    "plt.rcParams[\"figure.figsize\"] = (12,8)\n",
    "font = {'family' : 'normal',\n",
    "        'weight' : 'bold',\n",
    "        'size'   : 22}\n",
    "\n",
    "matplotlib.rc('font', **font)"
   ]
  },
  {
   "cell_type": "code",
   "execution_count": 27,
   "id": "ab8854e2",
   "metadata": {},
   "outputs": [
    {
     "name": "stderr",
     "output_type": "stream",
     "text": [
      "100%|███████████████████████████████████████████| 16/16 [00:01<00:00, 15.09it/s]\n",
      "100%|█████████████████████████████████████████| 100/100 [09:30<00:00,  5.71s/it]\n"
     ]
    }
   ],
   "source": [
    "C = np.linspace(1, 1600, 100)\n",
    "count_data = 5000\n",
    "l = '10.6'\n",
    "\n",
    "FOLDERS = [p_join(os.path.abspath(data_path), item) for item in os.listdir(data_path) if l in item]\n",
    "X, Y = utils.create_dataset(FOLDERS)\n",
    "X = utils.normalize_data(X)\n",
    "\n",
    "X = X[500:count_data]\n",
    "Y = Y[500:count_data]\n",
    "results = []\n",
    "\n",
    "for c in tqdm(C):\n",
    "    model = svm.SVC(C=c, kernel='rbf')\n",
    "    res = utils.calc_ml_method(model, CONFIG, X, Y)\n",
    "    res = res[str(CONFIG['scoring'])]\n",
    "    results.append(res['test_accuracy'].mean())"
   ]
  },
  {
   "cell_type": "code",
   "execution_count": 28,
   "id": "560e5698",
   "metadata": {},
   "outputs": [
    {
     "data": {
      "image/png": "[encoded data removed]",
      "text/plain": [
       "<Figure size 864x576 with 1 Axes>"
      ]
     },
     "metadata": {
      "needs_background": "light"
     },
     "output_type": "display_data"
    }
   ],
   "source": [
    "plt.plot(C, results)\n",
    "plt.xlabel('C')\n",
    "plt.ylabel('Mean CV accuracy')\n",
    "pass"
   ]
  },
  {
   "cell_type": "code",
   "execution_count": 29,
   "id": "6b656a6f",
   "metadata": {},
   "outputs": [
    {
     "data": {
      "text/plain": [
       "162.51515151515153"
      ]
     },
     "execution_count": 29,
     "metadata": {},
     "output_type": "execute_result"
    }
   ],
   "source": [
    "C[np.argmax(results)]"
   ]
  }
 ],
 "metadata": {
  "kernelspec": {
   "display_name": "Python 3",
   "language": "python",
   "name": "python3"
  },
  "language_info": {
   "codemirror_mode": {
    "name": "ipython",
    "version": 3
   },
   "file_extension": ".py",
   "mimetype": "text/x-python",
   "name": "python",
   "nbconvert_exporter": "python",
   "pygments_lexer": "ipython3",
   "version": "3.8.10"
  }
 },
 "nbformat": 4,
 "nbformat_minor": 5
}
