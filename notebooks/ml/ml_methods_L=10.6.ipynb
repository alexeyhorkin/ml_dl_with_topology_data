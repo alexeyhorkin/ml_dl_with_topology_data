{
 "cells": [
  {
   "cell_type": "code",
   "execution_count": 1,
   "id": "34fa79e7",
   "metadata": {},
   "outputs": [
    {
     "name": "stdout",
     "output_type": "stream",
     "text": [
      "[ Using Seed :  42  ]\n"
     ]
    }
   ],
   "source": [
    "import os\n",
    "import random\n",
    "import numpy as np\n",
    "import pandas as pd\n",
    "import matplotlib.pyplot as plt\n",
    "\n",
    "from os.path import join as p_join\n",
    "\n",
    "import seaborn as sns\n",
    "\n",
    "from tqdm import tqdm\n",
    "\n",
    "\n",
    "##################################\n",
    "## GLOBAL SETTINGS ###############\n",
    "##################################\n",
    "plt.rcParams[\"figure.figsize\"] = (12,8)\n",
    "\n",
    "def seed_all(seed=42):\n",
    "\n",
    "    random.seed(seed)\n",
    "    np.random.seed(seed)\n",
    "    print(\"[ Using Seed : \", seed, \" ]\")\n",
    "\n",
    "####################################\n",
    "#####   SEED ALL EXPERIMENTS   #####\n",
    "####################################\n",
    "seed_all()"
   ]
  },
  {
   "cell_type": "code",
   "execution_count": 2,
   "id": "bf2b7bbd",
   "metadata": {},
   "outputs": [],
   "source": [
    "import sys\n",
    "sys.path.append(\"../..\") # Adds higher directory to python modules path.\n",
    "from utils import utils"
   ]
  },
  {
   "cell_type": "code",
   "execution_count": 3,
   "id": "6ba78da5",
   "metadata": {},
   "outputs": [],
   "source": [
    "data_path = p_join('..', '..', 'data_2')\n",
    "FOLDERS = [p_join(os.path.abspath(data_path), item) for item in os.listdir(data_path) if 'L=10.6' in item]              "
   ]
  },
  {
   "cell_type": "code",
   "execution_count": 4,
   "id": "0e851d94",
   "metadata": {},
   "outputs": [],
   "source": [
    "###############################\n",
    "##### IMPORT ML METHODS   #####\n",
    "###############################\n",
    "from sklearn.neighbors import KNeighborsClassifier\n",
    "from sklearn import svm\n",
    "from sklearn.naive_bayes import GaussianNB\n",
    "from sklearn.linear_model import LogisticRegression\n",
    "from sklearn.linear_model import SGDClassifier\n",
    "from sklearn.tree import DecisionTreeClassifier\n",
    "from sklearn.ensemble import RandomForestClassifier\n",
    "\n",
    "\n",
    "#################################\n",
    "####### GLOBAL CONFIG ###########\n",
    "#################################\n",
    "CONFIG = {'scoring': ['accuracy', 'f1_macro'],\n",
    "          'cv': 5,\n",
    "          'n_jobs': -1}"
   ]
  },
  {
   "cell_type": "markdown",
   "id": "5b102d35",
   "metadata": {},
   "source": [
    "### Create dataset"
   ]
  },
  {
   "cell_type": "code",
   "execution_count": 5,
   "id": "79410aab",
   "metadata": {},
   "outputs": [
    {
     "name": "stderr",
     "output_type": "stream",
     "text": [
      "100%|███████████████████████████████████████████| 16/16 [00:00<00:00, 19.88it/s]\n"
     ]
    }
   ],
   "source": [
    "X, Y = utils.create_dataset(FOLDERS)\n",
    "X = utils.normalize_data(X)"
   ]
  },
  {
   "cell_type": "markdown",
   "id": "fffd8fcf",
   "metadata": {},
   "source": [
    "### Try `KNeighborsClassifier` Grid Search"
   ]
  },
  {
   "cell_type": "code",
   "execution_count": 6,
   "id": "e66f2047",
   "metadata": {},
   "outputs": [],
   "source": [
    "params = {'n_neighbors': [3,5,7,9], 'weights':['uniform', 'distance']}\n",
    "knn_grid_search_res = utils.greed_searc_cv(KNeighborsClassifier(),\n",
    "                                           params,\n",
    "                                           CONFIG,\n",
    "                                           X, Y)"
   ]
  },
  {
   "cell_type": "markdown",
   "id": "7537ef4e",
   "metadata": {},
   "source": [
    "### Try `LogisticRegression` Grid Search"
   ]
  },
  {
   "cell_type": "code",
   "execution_count": 7,
   "id": "6fd2dd5b",
   "metadata": {},
   "outputs": [],
   "source": [
    "params = [{'penalty': ['l1', 'l2'],\n",
    "          'C': [1/i for i in range(1, 20, 3)],\n",
    "          'solver': ['saga'],\n",
    "          'max_iter': [250]},\n",
    "          {'penalty': ['elasticnet'],\n",
    "           'C': [1/i for i in range(1, 20, 3)],\n",
    "           'solver': ['saga'],\n",
    "           'l1_ratio': np.linspace(0, 1, 5),\n",
    "           'max_iter': [250]}\n",
    "         ]\n",
    "\n",
    "log_reg_grid_search_res = utils.greed_searc_cv(LogisticRegression(),\n",
    "                                               params,\n",
    "                                               CONFIG,\n",
    "                                               X, Y)"
   ]
  },
  {
   "cell_type": "markdown",
   "id": "5fe72f7b",
   "metadata": {},
   "source": [
    "### Try `SVC` Grid Search"
   ]
  },
  {
   "cell_type": "code",
   "execution_count": 8,
   "id": "17fbc180",
   "metadata": {},
   "outputs": [],
   "source": [
    "params = {'kernel': ('linear', 'rbf'), 'C':[1, 10]}\n",
    "svc_grid_search_res = utils.greed_searc_cv(svm.SVC(),\n",
    "                                           params,\n",
    "                                           CONFIG,\n",
    "                                           X, Y)"
   ]
  },
  {
   "cell_type": "markdown",
   "id": "95862f59",
   "metadata": {},
   "source": [
    "### Try `GNB` Grid Search"
   ]
  },
  {
   "cell_type": "code",
   "execution_count": 9,
   "id": "93b24d55",
   "metadata": {},
   "outputs": [],
   "source": [
    "params = {'var_smoothing': [1e-9]}\n",
    "gnb_grid_search_res = utils.greed_searc_cv(GaussianNB(),\n",
    "                                           params,\n",
    "                                           CONFIG,\n",
    "                                           X, Y)"
   ]
  },
  {
   "cell_type": "markdown",
   "id": "3265ce93",
   "metadata": {},
   "source": [
    "### Try `Decision Tree` Grid Search "
   ]
  },
  {
   "cell_type": "code",
   "execution_count": 10,
   "id": "9dccb9d9",
   "metadata": {},
   "outputs": [],
   "source": [
    "params = {'criterion': ['gini', 'entropy'],\n",
    "         'max_depth': [4,5,6,7,8,9,10,11,12,15,20,30,40,50,70,90,120,150]}\n",
    "dt_grid_search_res = utils.greed_searc_cv(DecisionTreeClassifier(),\n",
    "                                          params,\n",
    "                                          CONFIG,\n",
    "                                          X, Y)"
   ]
  },
  {
   "cell_type": "markdown",
   "id": "f83a2e3f",
   "metadata": {},
   "source": [
    "### Try `Ramdom Forest` Grid Search "
   ]
  },
  {
   "cell_type": "code",
   "execution_count": 11,
   "id": "846495c4",
   "metadata": {},
   "outputs": [],
   "source": [
    "params = {'criterion': ['gini', 'entropy'],\n",
    "          'n_estimators': [10, 50, 100],\n",
    "          'max_depth': [3, 5, 10],\n",
    "          'min_samples_split': [2, 5, 10]}\n",
    "rf_grid_search_res = utils.greed_searc_cv(RandomForestClassifier(),\n",
    "                                          params,\n",
    "                                          CONFIG,\n",
    "                                          X, Y)"
   ]
  },
  {
   "cell_type": "code",
   "execution_count": 12,
   "id": "301a3061",
   "metadata": {},
   "outputs": [
    {
     "data": {
      "text/plain": [
       "{\"['accuracy', 'f1_macro']\": {'fit_time': array([1.36417985, 1.38120723, 1.59769154, 1.52987623, 1.32992411]),\n",
       "  'score_time': array([0.00665188, 0.00638509, 0.00531602, 0.00560117, 0.00663424]),\n",
       "  'test_accuracy': array([0.31343284, 0.30483707, 0.31710557, 0.33203094, 0.32041263]),\n",
       "  'test_f1_macro': array([0.3089507 , 0.29651253, 0.30639866, 0.32732993, 0.3042673 ])}}"
      ]
     },
     "execution_count": 12,
     "metadata": {},
     "output_type": "execute_result"
    }
   ],
   "source": [
    "### Just try Lin Classifier\n",
    "accuracies_lin_reg = utils.calc_ml_method(SGDClassifier(), CONFIG, X, Y)\n",
    "accuracies_lin_reg"
   ]
  },
  {
   "cell_type": "markdown",
   "id": "032f9fbf",
   "metadata": {},
   "source": [
    "### Plot Pandas DataFrame with summary"
   ]
  },
  {
   "cell_type": "code",
   "execution_count": 13,
   "id": "b5db8a3f",
   "metadata": {},
   "outputs": [],
   "source": [
    "all_results = {'KNN': knn_grid_search_res, 'Logistic regression': log_reg_grid_search_res,\n",
    "               'SVM': svc_grid_search_res, 'GaussianNB': gnb_grid_search_res, \n",
    "               'Decision Tree': dt_grid_search_res, 'Ramdom Forest': rf_grid_search_res}\n",
    "\n",
    "data = {}\n",
    "for method in all_results:\n",
    "    res = all_results[method]\n",
    "    bi = res['best_index']\n",
    "    val = []\n",
    "    for kk in res['cv_results']:\n",
    "        if 'mean_test' in kk:\n",
    "            val.append(res['cv_results'][kk][bi])\n",
    "    data[method] = val"
   ]
  },
  {
   "cell_type": "code",
   "execution_count": 14,
   "id": "66669885",
   "metadata": {},
   "outputs": [
    {
     "data": {
      "text/html": [
       "<div>\n",
       "<style scoped>\n",
       "    .dataframe tbody tr th:only-of-type {\n",
       "        vertical-align: middle;\n",
       "    }\n",
       "\n",
       "    .dataframe tbody tr th {\n",
       "        vertical-align: top;\n",
       "    }\n",
       "\n",
       "    .dataframe thead th {\n",
       "        text-align: right;\n",
       "    }\n",
       "</style>\n",
       "<table border=\"1\" class=\"dataframe\">\n",
       "  <thead>\n",
       "    <tr style=\"text-align: right;\">\n",
       "      <th></th>\n",
       "      <th>accuracy</th>\n",
       "      <th>f1_macro</th>\n",
       "    </tr>\n",
       "  </thead>\n",
       "  <tbody>\n",
       "    <tr>\n",
       "      <th>KNN</th>\n",
       "      <td>0.643036</td>\n",
       "      <td>0.643162</td>\n",
       "    </tr>\n",
       "    <tr>\n",
       "      <th>Logistic regression</th>\n",
       "      <td>0.350697</td>\n",
       "      <td>0.346904</td>\n",
       "    </tr>\n",
       "    <tr>\n",
       "      <th>SVM</th>\n",
       "      <td>0.716304</td>\n",
       "      <td>0.716180</td>\n",
       "    </tr>\n",
       "    <tr>\n",
       "      <th>GaussianNB</th>\n",
       "      <td>0.314000</td>\n",
       "      <td>0.292555</td>\n",
       "    </tr>\n",
       "    <tr>\n",
       "      <th>Decision Tree</th>\n",
       "      <td>0.581614</td>\n",
       "      <td>0.581595</td>\n",
       "    </tr>\n",
       "    <tr>\n",
       "      <th>Ramdom Forest</th>\n",
       "      <td>0.570768</td>\n",
       "      <td>0.568279</td>\n",
       "    </tr>\n",
       "  </tbody>\n",
       "</table>\n",
       "</div>"
      ],
      "text/plain": [
       "                     accuracy  f1_macro\n",
       "KNN                  0.643036  0.643162\n",
       "Logistic regression  0.350697  0.346904\n",
       "SVM                  0.716304  0.716180\n",
       "GaussianNB           0.314000  0.292555\n",
       "Decision Tree        0.581614  0.581595\n",
       "Ramdom Forest        0.570768  0.568279"
      ]
     },
     "execution_count": 14,
     "metadata": {},
     "output_type": "execute_result"
    }
   ],
   "source": [
    "df = pd.DataFrame.from_dict(data, orient='index', columns=CONFIG['scoring'])\n",
    "df"
   ]
  },
  {
   "cell_type": "code",
   "execution_count": 15,
   "id": "7a6a54a6",
   "metadata": {},
   "outputs": [],
   "source": [
    "with open('logs/all_res_ml_l_10_6.txt', 'w') as f:\n",
    "    f.write(str(all_results))"
   ]
  }
 ],
 "metadata": {
  "kernelspec": {
   "display_name": "Python 3",
   "language": "python",
   "name": "python3"
  },
  "language_info": {
   "codemirror_mode": {
    "name": "ipython",
    "version": 3
   },
   "file_extension": ".py",
   "mimetype": "text/x-python",
   "name": "python",
   "nbconvert_exporter": "python",
   "pygments_lexer": "ipython3",
   "version": "3.8.10"
  }
 },
 "nbformat": 4,
 "nbformat_minor": 5
}
